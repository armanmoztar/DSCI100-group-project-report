{
 "cells": [
  {
   "cell_type": "code",
   "execution_count": 3,
   "metadata": {},
   "outputs": [],
   "source": [
    "library(repr)\n",
    "library(tidyverse)\n",
    "library(tidymodels)\n",
    "options(repr.matrix.max.rows = 6)\n",
    "#source('tests.R')\n",
    "#source(\"cleanup.R\")\n",
    "set.seed(7493)"
   ]
  },
  {
   "cell_type": "markdown",
   "metadata": {},
   "source": [
    "Here we are reading the data."
   ]
  },
  {
   "cell_type": "code",
   "execution_count": 4,
   "metadata": {},
   "outputs": [
    {
     "name": "stderr",
     "output_type": "stream",
     "text": [
      "Parsed with column specification:\n",
      "cols(\n",
      "  .default = col_double(),\n",
      "  Div = \u001b[31mcol_character()\u001b[39m,\n",
      "  Date = \u001b[31mcol_character()\u001b[39m,\n",
      "  HomeTeam = \u001b[31mcol_character()\u001b[39m,\n",
      "  AwayTeam = \u001b[31mcol_character()\u001b[39m,\n",
      "  FTR = \u001b[31mcol_character()\u001b[39m,\n",
      "  HTR = \u001b[31mcol_character()\u001b[39m,\n",
      "  Referee = \u001b[31mcol_character()\u001b[39m\n",
      ")\n",
      "\n",
      "See spec(...) for full column specifications.\n",
      "\n"
     ]
    },
    {
     "data": {
      "text/html": [
       "<table>\n",
       "<caption>A spec_tbl_df: 380 × 62</caption>\n",
       "<thead>\n",
       "\t<tr><th scope=col>Div</th><th scope=col>Date</th><th scope=col>HomeTeam</th><th scope=col>AwayTeam</th><th scope=col>FTHG</th><th scope=col>FTAG</th><th scope=col>FTR</th><th scope=col>HTHG</th><th scope=col>HTAG</th><th scope=col>HTR</th><th scope=col>⋯</th><th scope=col>BbAv&lt;2.5</th><th scope=col>BbAH</th><th scope=col>BbAHh</th><th scope=col>BbMxAHH</th><th scope=col>BbAvAHH</th><th scope=col>BbMxAHA</th><th scope=col>BbAvAHA</th><th scope=col>PSCH</th><th scope=col>PSCD</th><th scope=col>PSCA</th></tr>\n",
       "\t<tr><th scope=col>&lt;chr&gt;</th><th scope=col>&lt;chr&gt;</th><th scope=col>&lt;fct&gt;</th><th scope=col>&lt;fct&gt;</th><th scope=col>&lt;int&gt;</th><th scope=col>&lt;int&gt;</th><th scope=col>&lt;fct&gt;</th><th scope=col>&lt;dbl&gt;</th><th scope=col>&lt;dbl&gt;</th><th scope=col>&lt;chr&gt;</th><th scope=col>⋯</th><th scope=col>&lt;dbl&gt;</th><th scope=col>&lt;dbl&gt;</th><th scope=col>&lt;dbl&gt;</th><th scope=col>&lt;dbl&gt;</th><th scope=col>&lt;dbl&gt;</th><th scope=col>&lt;dbl&gt;</th><th scope=col>&lt;dbl&gt;</th><th scope=col>&lt;dbl&gt;</th><th scope=col>&lt;dbl&gt;</th><th scope=col>&lt;dbl&gt;</th></tr>\n",
       "</thead>\n",
       "<tbody>\n",
       "\t<tr><td>E0</td><td>10/08/2018</td><td>Man United </td><td>Leicester     </td><td>2</td><td>1</td><td>H</td><td>1</td><td>0</td><td>H</td><td>⋯</td><td>1.79</td><td>17</td><td>-0.75</td><td>1.75</td><td>1.70</td><td>2.29</td><td>2.21</td><td>1.55</td><td>4.07</td><td>7.69</td></tr>\n",
       "\t<tr><td>E0</td><td>11/08/2018</td><td>Bournemouth</td><td>Cardiff       </td><td>2</td><td>0</td><td>H</td><td>1</td><td>0</td><td>H</td><td>⋯</td><td>1.83</td><td>20</td><td>-0.75</td><td>2.20</td><td>2.13</td><td>1.80</td><td>1.75</td><td>1.88</td><td>3.61</td><td>4.70</td></tr>\n",
       "\t<tr><td>E0</td><td>11/08/2018</td><td>Fulham     </td><td>Crystal Palace</td><td>0</td><td>2</td><td>A</td><td>0</td><td>1</td><td>A</td><td>⋯</td><td>1.87</td><td>22</td><td>-0.25</td><td>2.18</td><td>2.11</td><td>1.81</td><td>1.77</td><td>2.62</td><td>3.38</td><td>2.90</td></tr>\n",
       "\t<tr><td>⋮</td><td>⋮</td><td>⋮</td><td>⋮</td><td>⋮</td><td>⋮</td><td>⋮</td><td>⋮</td><td>⋮</td><td>⋮</td><td>⋱</td><td>⋮</td><td>⋮</td><td>⋮</td><td>⋮</td><td>⋮</td><td>⋮</td><td>⋮</td><td>⋮</td><td>⋮</td><td>⋮</td></tr>\n",
       "\t<tr><td>E0</td><td>12/05/2019</td><td>Southampton</td><td>Huddersfield</td><td>1</td><td>1</td><td>D</td><td>1</td><td>0</td><td>H</td><td>⋯</td><td>2.29</td><td>22</td><td>-1.5</td><td>2.27</td><td>2.16</td><td>1.80</td><td>1.73</td><td>1.37</td><td>5.36</td><td>8.49</td></tr>\n",
       "\t<tr><td>E0</td><td>12/05/2019</td><td>Tottenham  </td><td>Everton     </td><td>2</td><td>2</td><td>D</td><td>1</td><td>0</td><td>H</td><td>⋯</td><td>2.07</td><td>19</td><td>-0.5</td><td>2.13</td><td>2.08</td><td>1.85</td><td>1.80</td><td>1.91</td><td>3.81</td><td>4.15</td></tr>\n",
       "\t<tr><td>E0</td><td>12/05/2019</td><td>Watford    </td><td>West Ham    </td><td>1</td><td>4</td><td>A</td><td>0</td><td>2</td><td>A</td><td>⋯</td><td>2.44</td><td>19</td><td>-0.5</td><td>2.25</td><td>2.19</td><td>1.78</td><td>1.72</td><td>2.11</td><td>3.86</td><td>3.41</td></tr>\n",
       "</tbody>\n",
       "</table>\n"
      ],
      "text/latex": [
       "A spec\\_tbl\\_df: 380 × 62\n",
       "\\begin{tabular}{lllllllllllllllllllll}\n",
       " Div & Date & HomeTeam & AwayTeam & FTHG & FTAG & FTR & HTHG & HTAG & HTR & ⋯ & BbAv<2.5 & BbAH & BbAHh & BbMxAHH & BbAvAHH & BbMxAHA & BbAvAHA & PSCH & PSCD & PSCA\\\\\n",
       " <chr> & <chr> & <fct> & <fct> & <int> & <int> & <fct> & <dbl> & <dbl> & <chr> & ⋯ & <dbl> & <dbl> & <dbl> & <dbl> & <dbl> & <dbl> & <dbl> & <dbl> & <dbl> & <dbl>\\\\\n",
       "\\hline\n",
       "\t E0 & 10/08/2018 & Man United  & Leicester      & 2 & 1 & H & 1 & 0 & H & ⋯ & 1.79 & 17 & -0.75 & 1.75 & 1.70 & 2.29 & 2.21 & 1.55 & 4.07 & 7.69\\\\\n",
       "\t E0 & 11/08/2018 & Bournemouth & Cardiff        & 2 & 0 & H & 1 & 0 & H & ⋯ & 1.83 & 20 & -0.75 & 2.20 & 2.13 & 1.80 & 1.75 & 1.88 & 3.61 & 4.70\\\\\n",
       "\t E0 & 11/08/2018 & Fulham      & Crystal Palace & 0 & 2 & A & 0 & 1 & A & ⋯ & 1.87 & 22 & -0.25 & 2.18 & 2.11 & 1.81 & 1.77 & 2.62 & 3.38 & 2.90\\\\\n",
       "\t ⋮ & ⋮ & ⋮ & ⋮ & ⋮ & ⋮ & ⋮ & ⋮ & ⋮ & ⋮ & ⋱ & ⋮ & ⋮ & ⋮ & ⋮ & ⋮ & ⋮ & ⋮ & ⋮ & ⋮ & ⋮\\\\\n",
       "\t E0 & 12/05/2019 & Southampton & Huddersfield & 1 & 1 & D & 1 & 0 & H & ⋯ & 2.29 & 22 & -1.5 & 2.27 & 2.16 & 1.80 & 1.73 & 1.37 & 5.36 & 8.49\\\\\n",
       "\t E0 & 12/05/2019 & Tottenham   & Everton      & 2 & 2 & D & 1 & 0 & H & ⋯ & 2.07 & 19 & -0.5 & 2.13 & 2.08 & 1.85 & 1.80 & 1.91 & 3.81 & 4.15\\\\\n",
       "\t E0 & 12/05/2019 & Watford     & West Ham     & 1 & 4 & A & 0 & 2 & A & ⋯ & 2.44 & 19 & -0.5 & 2.25 & 2.19 & 1.78 & 1.72 & 2.11 & 3.86 & 3.41\\\\\n",
       "\\end{tabular}\n"
      ],
      "text/markdown": [
       "\n",
       "A spec_tbl_df: 380 × 62\n",
       "\n",
       "| Div &lt;chr&gt; | Date &lt;chr&gt; | HomeTeam &lt;fct&gt; | AwayTeam &lt;fct&gt; | FTHG &lt;int&gt; | FTAG &lt;int&gt; | FTR &lt;fct&gt; | HTHG &lt;dbl&gt; | HTAG &lt;dbl&gt; | HTR &lt;chr&gt; | ⋯ ⋯ | BbAv&lt;2.5 &lt;dbl&gt; | BbAH &lt;dbl&gt; | BbAHh &lt;dbl&gt; | BbMxAHH &lt;dbl&gt; | BbAvAHH &lt;dbl&gt; | BbMxAHA &lt;dbl&gt; | BbAvAHA &lt;dbl&gt; | PSCH &lt;dbl&gt; | PSCD &lt;dbl&gt; | PSCA &lt;dbl&gt; |\n",
       "|---|---|---|---|---|---|---|---|---|---|---|---|---|---|---|---|---|---|---|---|---|\n",
       "| E0 | 10/08/2018 | Man United  | Leicester      | 2 | 1 | H | 1 | 0 | H | ⋯ | 1.79 | 17 | -0.75 | 1.75 | 1.70 | 2.29 | 2.21 | 1.55 | 4.07 | 7.69 |\n",
       "| E0 | 11/08/2018 | Bournemouth | Cardiff        | 2 | 0 | H | 1 | 0 | H | ⋯ | 1.83 | 20 | -0.75 | 2.20 | 2.13 | 1.80 | 1.75 | 1.88 | 3.61 | 4.70 |\n",
       "| E0 | 11/08/2018 | Fulham      | Crystal Palace | 0 | 2 | A | 0 | 1 | A | ⋯ | 1.87 | 22 | -0.25 | 2.18 | 2.11 | 1.81 | 1.77 | 2.62 | 3.38 | 2.90 |\n",
       "| ⋮ | ⋮ | ⋮ | ⋮ | ⋮ | ⋮ | ⋮ | ⋮ | ⋮ | ⋮ | ⋱ | ⋮ | ⋮ | ⋮ | ⋮ | ⋮ | ⋮ | ⋮ | ⋮ | ⋮ | ⋮ |\n",
       "| E0 | 12/05/2019 | Southampton | Huddersfield | 1 | 1 | D | 1 | 0 | H | ⋯ | 2.29 | 22 | -1.5 | 2.27 | 2.16 | 1.80 | 1.73 | 1.37 | 5.36 | 8.49 |\n",
       "| E0 | 12/05/2019 | Tottenham   | Everton      | 2 | 2 | D | 1 | 0 | H | ⋯ | 2.07 | 19 | -0.5 | 2.13 | 2.08 | 1.85 | 1.80 | 1.91 | 3.81 | 4.15 |\n",
       "| E0 | 12/05/2019 | Watford     | West Ham     | 1 | 4 | A | 0 | 2 | A | ⋯ | 2.44 | 19 | -0.5 | 2.25 | 2.19 | 1.78 | 1.72 | 2.11 | 3.86 | 3.41 |\n",
       "\n"
      ],
      "text/plain": [
       "    Div Date       HomeTeam    AwayTeam       FTHG FTAG FTR HTHG HTAG HTR ⋯\n",
       "1   E0  10/08/2018 Man United  Leicester      2    1    H   1    0    H   ⋯\n",
       "2   E0  11/08/2018 Bournemouth Cardiff        2    0    H   1    0    H   ⋯\n",
       "3   E0  11/08/2018 Fulham      Crystal Palace 0    2    A   0    1    A   ⋯\n",
       "⋮   ⋮   ⋮          ⋮           ⋮              ⋮    ⋮    ⋮   ⋮    ⋮    ⋮   ⋱\n",
       "378 E0  12/05/2019 Southampton Huddersfield   1    1    D   1    0    H   ⋯\n",
       "379 E0  12/05/2019 Tottenham   Everton        2    2    D   1    0    H   ⋯\n",
       "380 E0  12/05/2019 Watford     West Ham       1    4    A   0    2    A   ⋯\n",
       "    BbAv<2.5 BbAH BbAHh BbMxAHH BbAvAHH BbMxAHA BbAvAHA PSCH PSCD PSCA\n",
       "1   1.79     17   -0.75 1.75    1.70    2.29    2.21    1.55 4.07 7.69\n",
       "2   1.83     20   -0.75 2.20    2.13    1.80    1.75    1.88 3.61 4.70\n",
       "3   1.87     22   -0.25 2.18    2.11    1.81    1.77    2.62 3.38 2.90\n",
       "⋮   ⋮        ⋮    ⋮     ⋮       ⋮       ⋮       ⋮       ⋮    ⋮    ⋮   \n",
       "378 2.29     22   -1.5  2.27    2.16    1.80    1.73    1.37 5.36 8.49\n",
       "379 2.07     19   -0.5  2.13    2.08    1.85    1.80    1.91 3.81 4.15\n",
       "380 2.44     19   -0.5  2.25    2.19    1.78    1.72    2.11 3.86 3.41"
      ]
     },
     "metadata": {},
     "output_type": "display_data"
    }
   ],
   "source": [
    "url <- \"https://raw.githubusercontent.com/armanmoztar/group-project/main/data/season_2018.csv\"\n",
    "\n",
    "match_data <- read_csv(url) %>% \n",
    "            mutate(FTR = as_factor(FTR),\n",
    "                  AwayTeam = as_factor(AwayTeam),\n",
    "                  FTHG = as.integer(FTHG),\n",
    "                  FTAG = as.integer(FTAG),\n",
    "                  HomeTeam = as_factor(HomeTeam))\n",
    "\n",
    "match_data "
   ]
  },
  {
   "cell_type": "code",
   "execution_count": 5,
   "metadata": {},
   "outputs": [],
   "source": [
    "match_split <- initial_split(match_data, prop = 3/4, strata = \"FTR\")  \n",
    "match_train <- training(match_split)   \n",
    "match_test <- testing(match_split)\n"
   ]
  },
  {
   "cell_type": "markdown",
   "metadata": {},
   "source": [
    "Below represents the number of matches won by each home team. "
   ]
  },
  {
   "cell_type": "code",
   "execution_count": 6,
   "metadata": {},
   "outputs": [
    {
     "name": "stderr",
     "output_type": "stream",
     "text": [
      "`summarise()` regrouping output by 'FTR', 'HomeTeam', 'AwayTeam', 'FTHG' (override with `.groups` argument)\n",
      "\n",
      "`summarise()` regrouping output by 'FTR' (override with `.groups` argument)\n",
      "\n",
      "`summarise()` regrouping output by 'FTR' (override with `.groups` argument)\n",
      "\n"
     ]
    },
    {
     "data": {
      "text/html": [
       "<table>\n",
       "<caption>A grouped_df: 58 × 3</caption>\n",
       "<thead>\n",
       "\t<tr><th scope=col>FTR</th><th scope=col>HomeTeam</th><th scope=col>TotalWinsHome</th></tr>\n",
       "\t<tr><th scope=col>&lt;fct&gt;</th><th scope=col>&lt;fct&gt;</th><th scope=col>&lt;int&gt;</th></tr>\n",
       "</thead>\n",
       "<tbody>\n",
       "\t<tr><td>H</td><td>Liverpool</td><td>15</td></tr>\n",
       "\t<tr><td>H</td><td>Man City </td><td>15</td></tr>\n",
       "\t<tr><td>H</td><td>Arsenal  </td><td>12</td></tr>\n",
       "\t<tr><td>⋮</td><td>⋮</td><td>⋮</td></tr>\n",
       "\t<tr><td>D</td><td>Newcastle</td><td>1</td></tr>\n",
       "\t<tr><td>D</td><td>Cardiff  </td><td>1</td></tr>\n",
       "\t<tr><td>D</td><td>Everton  </td><td>1</td></tr>\n",
       "</tbody>\n",
       "</table>\n"
      ],
      "text/latex": [
       "A grouped\\_df: 58 × 3\n",
       "\\begin{tabular}{lll}\n",
       " FTR & HomeTeam & TotalWinsHome\\\\\n",
       " <fct> & <fct> & <int>\\\\\n",
       "\\hline\n",
       "\t H & Liverpool & 15\\\\\n",
       "\t H & Man City  & 15\\\\\n",
       "\t H & Arsenal   & 12\\\\\n",
       "\t ⋮ & ⋮ & ⋮\\\\\n",
       "\t D & Newcastle & 1\\\\\n",
       "\t D & Cardiff   & 1\\\\\n",
       "\t D & Everton   & 1\\\\\n",
       "\\end{tabular}\n"
      ],
      "text/markdown": [
       "\n",
       "A grouped_df: 58 × 3\n",
       "\n",
       "| FTR &lt;fct&gt; | HomeTeam &lt;fct&gt; | TotalWinsHome &lt;int&gt; |\n",
       "|---|---|---|\n",
       "| H | Liverpool | 15 |\n",
       "| H | Man City  | 15 |\n",
       "| H | Arsenal   | 12 |\n",
       "| ⋮ | ⋮ | ⋮ |\n",
       "| D | Newcastle | 1 |\n",
       "| D | Cardiff   | 1 |\n",
       "| D | Everton   | 1 |\n",
       "\n"
      ],
      "text/plain": [
       "   FTR HomeTeam  TotalWinsHome\n",
       "1  H   Liverpool 15           \n",
       "2  H   Man City  15           \n",
       "3  H   Arsenal   12           \n",
       "⋮  ⋮   ⋮         ⋮            \n",
       "56 D   Newcastle 1            \n",
       "57 D   Cardiff   1            \n",
       "58 D   Everton   1            "
      ]
     },
     "metadata": {},
     "output_type": "display_data"
    },
    {
     "data": {
      "text/html": [
       "<table>\n",
       "<caption>A grouped_df: 59 × 3</caption>\n",
       "<thead>\n",
       "\t<tr><th scope=col>FTR</th><th scope=col>AwayTeam</th><th scope=col>TotalWinsAway</th></tr>\n",
       "\t<tr><th scope=col>&lt;fct&gt;</th><th scope=col>&lt;fct&gt;</th><th scope=col>&lt;int&gt;</th></tr>\n",
       "</thead>\n",
       "<tbody>\n",
       "\t<tr><td>H</td><td>Fulham      </td><td>12</td></tr>\n",
       "\t<tr><td>H</td><td>Huddersfield</td><td>12</td></tr>\n",
       "\t<tr><td>A</td><td>Man City    </td><td>11</td></tr>\n",
       "\t<tr><td>⋮</td><td>⋮</td><td>⋮</td></tr>\n",
       "\t<tr><td>D</td><td>Chelsea    </td><td>1</td></tr>\n",
       "\t<tr><td>D</td><td>Man City   </td><td>1</td></tr>\n",
       "\t<tr><td>D</td><td>Bournemouth</td><td>1</td></tr>\n",
       "</tbody>\n",
       "</table>\n"
      ],
      "text/latex": [
       "A grouped\\_df: 59 × 3\n",
       "\\begin{tabular}{lll}\n",
       " FTR & AwayTeam & TotalWinsAway\\\\\n",
       " <fct> & <fct> & <int>\\\\\n",
       "\\hline\n",
       "\t H & Fulham       & 12\\\\\n",
       "\t H & Huddersfield & 12\\\\\n",
       "\t A & Man City     & 11\\\\\n",
       "\t ⋮ & ⋮ & ⋮\\\\\n",
       "\t D & Chelsea     & 1\\\\\n",
       "\t D & Man City    & 1\\\\\n",
       "\t D & Bournemouth & 1\\\\\n",
       "\\end{tabular}\n"
      ],
      "text/markdown": [
       "\n",
       "A grouped_df: 59 × 3\n",
       "\n",
       "| FTR &lt;fct&gt; | AwayTeam &lt;fct&gt; | TotalWinsAway &lt;int&gt; |\n",
       "|---|---|---|\n",
       "| H | Fulham       | 12 |\n",
       "| H | Huddersfield | 12 |\n",
       "| A | Man City     | 11 |\n",
       "| ⋮ | ⋮ | ⋮ |\n",
       "| D | Chelsea     | 1 |\n",
       "| D | Man City    | 1 |\n",
       "| D | Bournemouth | 1 |\n",
       "\n"
      ],
      "text/plain": [
       "   FTR AwayTeam     TotalWinsAway\n",
       "1  H   Fulham       12           \n",
       "2  H   Huddersfield 12           \n",
       "3  A   Man City     11           \n",
       "⋮  ⋮   ⋮            ⋮            \n",
       "57 D   Chelsea      1            \n",
       "58 D   Man City     1            \n",
       "59 D   Bournemouth  1            "
      ]
     },
     "metadata": {},
     "output_type": "display_data"
    },
    {
     "data": {
      "text/html": [
       "<table>\n",
       "<caption>A grouped_df: 286 × 6</caption>\n",
       "<thead>\n",
       "\t<tr><th scope=col>FTR</th><th scope=col>HomeTeam</th><th scope=col>AwayTeam</th><th scope=col>FTHG</th><th scope=col>FTAG</th><th scope=col>Net_Score</th></tr>\n",
       "\t<tr><th scope=col>&lt;fct&gt;</th><th scope=col>&lt;fct&gt;</th><th scope=col>&lt;fct&gt;</th><th scope=col>&lt;int&gt;</th><th scope=col>&lt;int&gt;</th><th scope=col>&lt;int&gt;</th></tr>\n",
       "</thead>\n",
       "<tbody>\n",
       "\t<tr><td>H</td><td>Man United</td><td>Brighton</td><td>2</td><td>1</td><td>1</td></tr>\n",
       "\t<tr><td>H</td><td>Man United</td><td>Everton </td><td>2</td><td>1</td><td>1</td></tr>\n",
       "\t<tr><td>H</td><td>Man United</td><td>West Ham</td><td>2</td><td>1</td><td>1</td></tr>\n",
       "\t<tr><td>⋮</td><td>⋮</td><td>⋮</td><td>⋮</td><td>⋮</td><td>⋮</td></tr>\n",
       "\t<tr><td>D</td><td>Crystal Palace</td><td>Everton  </td><td>0</td><td>0</td><td>0</td></tr>\n",
       "\t<tr><td>D</td><td>Crystal Palace</td><td>West Ham </td><td>1</td><td>1</td><td>0</td></tr>\n",
       "\t<tr><td>D</td><td>Crystal Palace</td><td>Newcastle</td><td>0</td><td>0</td><td>0</td></tr>\n",
       "</tbody>\n",
       "</table>\n"
      ],
      "text/latex": [
       "A grouped\\_df: 286 × 6\n",
       "\\begin{tabular}{llllll}\n",
       " FTR & HomeTeam & AwayTeam & FTHG & FTAG & Net\\_Score\\\\\n",
       " <fct> & <fct> & <fct> & <int> & <int> & <int>\\\\\n",
       "\\hline\n",
       "\t H & Man United & Brighton & 2 & 1 & 1\\\\\n",
       "\t H & Man United & Everton  & 2 & 1 & 1\\\\\n",
       "\t H & Man United & West Ham & 2 & 1 & 1\\\\\n",
       "\t ⋮ & ⋮ & ⋮ & ⋮ & ⋮ & ⋮\\\\\n",
       "\t D & Crystal Palace & Everton   & 0 & 0 & 0\\\\\n",
       "\t D & Crystal Palace & West Ham  & 1 & 1 & 0\\\\\n",
       "\t D & Crystal Palace & Newcastle & 0 & 0 & 0\\\\\n",
       "\\end{tabular}\n"
      ],
      "text/markdown": [
       "\n",
       "A grouped_df: 286 × 6\n",
       "\n",
       "| FTR &lt;fct&gt; | HomeTeam &lt;fct&gt; | AwayTeam &lt;fct&gt; | FTHG &lt;int&gt; | FTAG &lt;int&gt; | Net_Score &lt;int&gt; |\n",
       "|---|---|---|---|---|---|\n",
       "| H | Man United | Brighton | 2 | 1 | 1 |\n",
       "| H | Man United | Everton  | 2 | 1 | 1 |\n",
       "| H | Man United | West Ham | 2 | 1 | 1 |\n",
       "| ⋮ | ⋮ | ⋮ | ⋮ | ⋮ | ⋮ |\n",
       "| D | Crystal Palace | Everton   | 0 | 0 | 0 |\n",
       "| D | Crystal Palace | West Ham  | 1 | 1 | 0 |\n",
       "| D | Crystal Palace | Newcastle | 0 | 0 | 0 |\n",
       "\n"
      ],
      "text/plain": [
       "    FTR HomeTeam       AwayTeam  FTHG FTAG Net_Score\n",
       "1   H   Man United     Brighton  2    1    1        \n",
       "2   H   Man United     Everton   2    1    1        \n",
       "3   H   Man United     West Ham  2    1    1        \n",
       "⋮   ⋮   ⋮              ⋮         ⋮    ⋮    ⋮        \n",
       "284 D   Crystal Palace Everton   0    0    0        \n",
       "285 D   Crystal Palace West Ham  1    1    0        \n",
       "286 D   Crystal Palace Newcastle 0    0    0        "
      ]
     },
     "metadata": {},
     "output_type": "display_data"
    }
   ],
   "source": [
    "training_summary_netscore <- match_train %>% \n",
    "                group_by(FTR, HomeTeam, AwayTeam, FTHG, FTAG) %>%\n",
    "                summarize() %>% \n",
    "                mutate(Net_Score = FTHG - FTAG)\n",
    "\n",
    "training_summary_nwin_home <- match_train %>% \n",
    "                group_by(FTR, HomeTeam) %>%\n",
    "                summarize(TotalWinsHome = n()) %>% \n",
    "                arrange(desc(TotalWinsHome))\n",
    "\n",
    "training_summary_nwin_away <- match_train %>% \n",
    "                group_by(FTR, AwayTeam) %>%\n",
    "                summarize(TotalWinsAway = n()) %>% \n",
    "                arrange(desc(TotalWinsAway))\n",
    "\n",
    "\n",
    "training_summary_nwin_home\n",
    "training_summary_nwin_away\n",
    "training_summary_netscore"
   ]
  },
  {
   "cell_type": "code",
   "execution_count": 22,
   "metadata": {},
   "outputs": [
    {
     "data": {
      "image/png": "[encoded data removed]",
      "text/plain": [
       "plot without title"
      ]
     },
     "metadata": {
      "image/png": {
       "height": 480,
       "width": 960
      }
     },
     "output_type": "display_data"
    }
   ],
   "source": [
    "options(repr.plot.height = 8, repr.plot.width = 16)\n",
    "\n",
    "netscore_vs_netshots_plot <- match_train %>% \n",
    "    mutate(NetScore = FTHG - FTAG, NetShots = HS - AS) %>% \n",
    "    ggplot(aes(x= NetShots, y = NetScore, color = FTR)) +\n",
    "    geom_point() +\n",
    "    labs(x= \"Net Shots (Home Shots - Away Shots)\", y = \"Net Goals (Home Goals - Away Goals)\", \n",
    "        color = \"Outcome of Match\") +\n",
    "    ggtitle(\"Net Goals Against Net Shots Per Match in the Premier Leauge\") +\n",
    "    theme(text = element_text(size=20))\n",
    "\n",
    "netscore_vs_netshots_ongoal_plot <- match_train %>% \n",
    "    mutate(NetScore = FTHG - FTAG, NetShotsOnGoal = HST - AST) %>% \n",
    "    ggplot(aes(x= NetShotsOnGoal, y = NetScore, color = FTR)) +\n",
    "    geom_point() +\n",
    "    labs(x= \"Net Shots on Target (Home Shots on Target - Away Shots on Target)\", \n",
    "         y = \"Net Goals (Home Goals - Away Goals)\",\n",
    "        color = \"Outcome of Match\") +\n",
    "    ggtitle(\"Net Goals Against Net Shots On Goal Per Match in the Premier Leauge\") +\n",
    "    theme(text = element_text(size=20))\n",
    "\n",
    "plot_1 <- match_train %>% \n",
    "    mutate(NetScore = FTHG - FTAG, NetShotsOnGoal = HST - AST) %>% \n",
    "    ggplot(aes(x= BWH, y = NetScore, color = FTR)) +\n",
    "    geom_point() +\n",
    "    labs(x= \"Changinf Variable\", \n",
    "         y = \"Net Goals (Home Goals - Away Goals)\",\n",
    "        color = \"Outcome of Match\") +\n",
    "    ggtitle(\"Net Goals Against Net Shots On Goal Per Match in the Premier Leauge\") +\n",
    "    theme(text = element_text(size=20))\n",
    "\n",
    "plot_1\n",
    "#netscore_vs_netshots_plot\n",
    "#netscore_vs_netshots_ongoal_plot"
   ]
  },
  {
   "cell_type": "markdown",
   "metadata": {},
   "source": [
    "#### Note that:  H = Home Team Win | D = Draw/Tie | A = Away Team Win"
   ]
  },
  {
   "cell_type": "markdown",
   "metadata": {},
   "source": [
    "#### Introduction\n",
    "Betting on the outcomes of soccer matches is very common in the sporting community. Based on our dataset, which team is more \n",
    "likely to win and what is the given score? This project involves using halftime match statistics to predict the outcome of the \n",
    "match, as well as the final score. The given dataset provides specific match information from the 2018-2019 Premier League games\n",
    "including which teams played, half-time score, shots, shots-on-target, shots that hit woodwork, corner kicks, fouls committed, \n",
    "free kicks committed, yellow and red cards given out and more factors affecting the likeliness of a goal. \n"
   ]
  },
  {
   "cell_type": "markdown",
   "metadata": {},
   "source": [
    "#### Method:\n",
    "We plan on using the following factors to conduct our data analysis:\n",
    "Chosen Variables/Columns| Justification: \n",
    "\n",
    "FTHG and HG = Full Time Home Team Goals\n",
    "Testing Data: Not used in our predictions\n",
    "FTAG and AG = Full Time Away Team Goals\n",
    "Testing Data: Not used in our predictions\n",
    "FTR and Res = Full Time Result (H=Home Win, D=Draw, A=Away Win)\n",
    "Testing Data: Not used in our predictions\n",
    "HTHG = Half Time Home Team Goals\n",
    "Allows for performance assessment at half time when paired with total attempted team shots.\n",
    "HTAG = Half Time Away Team Goals\n",
    "\n",
    "\n",
    "HTR = Half Time Result (H=Home Win, D=Draw, A=Away Win)\n",
    "\n",
    "\n",
    "HS = Home Team Shots\n",
    "Combined with total team goals, total team shots allow us to further predict the accuracy of the team at halftime.\n",
    "AS = Away Team Shots\n",
    "\n",
    "\n",
    "HST = Home Team Shots on Target\n",
    "(Shot blocked by opponent’s goalie)\n",
    "This factor pair gives us an idea of how many times a team got close to the opponent’s net and the effectiveness of their \n",
    "opponent’s goalie.\n",
    "AST = Away Team Shots on Target\n",
    "(Shot blocked by opponent’s goalie)\n",
    "\n",
    "\n",
    "HHW = Home Team Hit Woodwork\n",
    "Alongside HST and AST, these factors show us how many times a team got within shooting distance of the net.\n",
    "AHW = Away Team Hit Woodwork\n",
    "\n",
    "\n",
    "HC = Home Team Corners\n",
    "Shows a team’s accuracy and how often the team reaches the opponent’s goal.\n",
    "AC = Away Team Corners\n",
    "\n",
    "\n",
    "HFKC = Home Team Free Kicks Conceded\n",
    "\n",
    "\n",
    "AFKC = Away Team Free Kicks Conceded\n",
    "\n",
    "\n",
    "HO = Home Team Offsides\n",
    "Frequency of fouls and how often the team is around the opponent’s goal\n",
    "AO = Away Team Offsides\n",
    "\n",
    "\n",
    "\n",
    "\n",
    "In our data analysis, we plan on visualizing our data using a scatter plot. Using a scatter plot will allow us to better \n",
    "understand the correlation between predictors (see list of columns and variables above) and net goal difference.\n"
   ]
  },
  {
   "cell_type": "markdown",
   "metadata": {},
   "source": [
    "#### Expected outcomes and significance\n",
    "In our data analysis, we expect to successfully and accurately find the winner between two teams, alongside the final score. \n",
    "These findings could increase the probability of an accurate prediction regarding the outcome of a game between two teams. Our \n",
    "analysis can then be used to answer future questions, such as : Which team in a league has the greatest chances of winning for \n",
    "the given season?\n"
   ]
  },
  {
   "cell_type": "code",
   "execution_count": 51,
   "metadata": {},
   "outputs": [],
   "source": [
    "match_train <- mutate(match_train, NetScore = FTHG - FTAG)\n",
    "match_test <- mutate(match_test, NetScore = FTHG - FTAG)"
   ]
  },
  {
   "cell_type": "code",
   "execution_count": 69,
   "metadata": {},
   "outputs": [
    {
     "data": {
      "text/html": [
       "<table>\n",
       "<caption>A tibble: 400 × 7</caption>\n",
       "<thead>\n",
       "\t<tr><th scope=col>neighbors</th><th scope=col>.metric</th><th scope=col>.estimator</th><th scope=col>mean</th><th scope=col>n</th><th scope=col>std_err</th><th scope=col>.config</th></tr>\n",
       "\t<tr><th scope=col>&lt;int&gt;</th><th scope=col>&lt;chr&gt;</th><th scope=col>&lt;chr&gt;</th><th scope=col>&lt;dbl&gt;</th><th scope=col>&lt;int&gt;</th><th scope=col>&lt;dbl&gt;</th><th scope=col>&lt;chr&gt;</th></tr>\n",
       "</thead>\n",
       "<tbody>\n",
       "\t<tr><td>1</td><td>rmse</td><td>standard</td><td>1.6789457</td><td>5</td><td>0.07261887</td><td>Model001</td></tr>\n",
       "\t<tr><td>1</td><td>rsq </td><td>standard</td><td>0.3592923</td><td>5</td><td>0.03944153</td><td>Model001</td></tr>\n",
       "\t<tr><td>2</td><td>rmse</td><td>standard</td><td>1.4178375</td><td>5</td><td>0.03849728</td><td>Model002</td></tr>\n",
       "\t<tr><td>⋮</td><td>⋮</td><td>⋮</td><td>⋮</td><td>⋮</td><td>⋮</td><td>⋮</td></tr>\n",
       "\t<tr><td>199</td><td>rsq </td><td>standard</td><td>0.4314132</td><td>5</td><td>0.02515168</td><td>Model199</td></tr>\n",
       "\t<tr><td>200</td><td>rmse</td><td>standard</td><td>1.8075874</td><td>5</td><td>0.03577911</td><td>Model200</td></tr>\n",
       "\t<tr><td>200</td><td>rsq </td><td>standard</td><td>0.4296526</td><td>5</td><td>0.02921432</td><td>Model200</td></tr>\n",
       "</tbody>\n",
       "</table>\n"
      ],
      "text/latex": [
       "A tibble: 400 × 7\n",
       "\\begin{tabular}{lllllll}\n",
       " neighbors & .metric & .estimator & mean & n & std\\_err & .config\\\\\n",
       " <int> & <chr> & <chr> & <dbl> & <int> & <dbl> & <chr>\\\\\n",
       "\\hline\n",
       "\t 1 & rmse & standard & 1.6789457 & 5 & 0.07261887 & Model001\\\\\n",
       "\t 1 & rsq  & standard & 0.3592923 & 5 & 0.03944153 & Model001\\\\\n",
       "\t 2 & rmse & standard & 1.4178375 & 5 & 0.03849728 & Model002\\\\\n",
       "\t ⋮ & ⋮ & ⋮ & ⋮ & ⋮ & ⋮ & ⋮\\\\\n",
       "\t 199 & rsq  & standard & 0.4314132 & 5 & 0.02515168 & Model199\\\\\n",
       "\t 200 & rmse & standard & 1.8075874 & 5 & 0.03577911 & Model200\\\\\n",
       "\t 200 & rsq  & standard & 0.4296526 & 5 & 0.02921432 & Model200\\\\\n",
       "\\end{tabular}\n"
      ],
      "text/markdown": [
       "\n",
       "A tibble: 400 × 7\n",
       "\n",
       "| neighbors &lt;int&gt; | .metric &lt;chr&gt; | .estimator &lt;chr&gt; | mean &lt;dbl&gt; | n &lt;int&gt; | std_err &lt;dbl&gt; | .config &lt;chr&gt; |\n",
       "|---|---|---|---|---|---|---|\n",
       "| 1 | rmse | standard | 1.6789457 | 5 | 0.07261887 | Model001 |\n",
       "| 1 | rsq  | standard | 0.3592923 | 5 | 0.03944153 | Model001 |\n",
       "| 2 | rmse | standard | 1.4178375 | 5 | 0.03849728 | Model002 |\n",
       "| ⋮ | ⋮ | ⋮ | ⋮ | ⋮ | ⋮ | ⋮ |\n",
       "| 199 | rsq  | standard | 0.4314132 | 5 | 0.02515168 | Model199 |\n",
       "| 200 | rmse | standard | 1.8075874 | 5 | 0.03577911 | Model200 |\n",
       "| 200 | rsq  | standard | 0.4296526 | 5 | 0.02921432 | Model200 |\n",
       "\n"
      ],
      "text/plain": [
       "    neighbors .metric .estimator mean      n std_err    .config \n",
       "1   1         rmse    standard   1.6789457 5 0.07261887 Model001\n",
       "2   1         rsq     standard   0.3592923 5 0.03944153 Model001\n",
       "3   2         rmse    standard   1.4178375 5 0.03849728 Model002\n",
       "⋮   ⋮         ⋮       ⋮          ⋮         ⋮ ⋮          ⋮       \n",
       "398 199       rsq     standard   0.4314132 5 0.02515168 Model199\n",
       "399 200       rmse    standard   1.8075874 5 0.03577911 Model200\n",
       "400 200       rsq     standard   0.4296526 5 0.02921432 Model200"
      ]
     },
     "metadata": {},
     "output_type": "display_data"
    }
   ],
   "source": [
    "set.seed(1234)\n",
    "# match_data\n",
    "# match_split <- initial_split(match_data, prop = 3/4, strata = \"FTR\")  \n",
    "# match_train <- training(match_split)   \n",
    "# match_test <- testing(match_split)\n",
    "#HTHG + HTAG + HS + AS + HST + HC + AC + HY + AY+ HR + AR + B365H + B365A+ BWH + BWA\n",
    "match_spec <- nearest_neighbor(weight_func = \"rectangular\", neighbors = tune()) %>% \n",
    "      set_engine(\"kknn\") %>%\n",
    "      set_mode(\"regression\") \n",
    "\n",
    "match_recipe_home <- recipe(NetScore ~ HTHG+HTAG+HS+AS+HST+AST+HF+AF+HC+AC+HY+AY+\n",
    "                            HR+AR+B365H+B365D+B365A+BWH+BWD+BWA+IWH+IWD+IWA, data = match_train) %>%\n",
    "      step_scale(all_predictors()) %>%\n",
    "      step_center(all_predictors())\n",
    "\n",
    "match_vfold <- vfold_cv(match_train, v=5, strata = NetScore)\n",
    "\n",
    "match_workflow <- workflow() %>% \n",
    "    add_recipe(match_recipe_home) %>% \n",
    "    add_model(match_spec)\n",
    "\n",
    "\n",
    "gridvals <- tibble(neighbors = seq(from = 1, to = 200))\n",
    "\n",
    "match_results <- match_workflow %>% \n",
    "        tune_grid(resamples = match_vfold, grid = gridvals) %>% \n",
    "        collect_metrics()\n",
    "\n",
    "match_results\n"
   ]
  },
  {
   "cell_type": "code",
   "execution_count": 70,
   "metadata": {},
   "outputs": [
    {
     "data": {
      "text/html": [
       "<table>\n",
       "<caption>A tibble: 1 × 7</caption>\n",
       "<thead>\n",
       "\t<tr><th scope=col>neighbors</th><th scope=col>.metric</th><th scope=col>.estimator</th><th scope=col>mean</th><th scope=col>n</th><th scope=col>std_err</th><th scope=col>.config</th></tr>\n",
       "\t<tr><th scope=col>&lt;int&gt;</th><th scope=col>&lt;chr&gt;</th><th scope=col>&lt;chr&gt;</th><th scope=col>&lt;dbl&gt;</th><th scope=col>&lt;int&gt;</th><th scope=col>&lt;dbl&gt;</th><th scope=col>&lt;chr&gt;</th></tr>\n",
       "</thead>\n",
       "<tbody>\n",
       "\t<tr><td>11</td><td>rmse</td><td>standard</td><td>1.247557</td><td>5</td><td>0.07080837</td><td>Model011</td></tr>\n",
       "</tbody>\n",
       "</table>\n"
      ],
      "text/latex": [
       "A tibble: 1 × 7\n",
       "\\begin{tabular}{lllllll}\n",
       " neighbors & .metric & .estimator & mean & n & std\\_err & .config\\\\\n",
       " <int> & <chr> & <chr> & <dbl> & <int> & <dbl> & <chr>\\\\\n",
       "\\hline\n",
       "\t 11 & rmse & standard & 1.247557 & 5 & 0.07080837 & Model011\\\\\n",
       "\\end{tabular}\n"
      ],
      "text/markdown": [
       "\n",
       "A tibble: 1 × 7\n",
       "\n",
       "| neighbors &lt;int&gt; | .metric &lt;chr&gt; | .estimator &lt;chr&gt; | mean &lt;dbl&gt; | n &lt;int&gt; | std_err &lt;dbl&gt; | .config &lt;chr&gt; |\n",
       "|---|---|---|---|---|---|---|\n",
       "| 11 | rmse | standard | 1.247557 | 5 | 0.07080837 | Model011 |\n",
       "\n"
      ],
      "text/plain": [
       "  neighbors .metric .estimator mean     n std_err    .config \n",
       "1 11        rmse    standard   1.247557 5 0.07080837 Model011"
      ]
     },
     "metadata": {},
     "output_type": "display_data"
    }
   ],
   "source": [
    "match_min <- match_results %>%\n",
    "   filter(.metric == \"rmse\") %>%\n",
    "   arrange(mean) %>% \n",
    "   slice(1)\n",
    "\n",
    "match_min"
   ]
  },
  {
   "cell_type": "code",
   "execution_count": 71,
   "metadata": {},
   "outputs": [
    {
     "data": {
      "text/html": [
       "<table>\n",
       "<caption>A tibble: 3 × 3</caption>\n",
       "<thead>\n",
       "\t<tr><th scope=col>.metric</th><th scope=col>.estimator</th><th scope=col>.estimate</th></tr>\n",
       "\t<tr><th scope=col>&lt;chr&gt;</th><th scope=col>&lt;chr&gt;</th><th scope=col>&lt;dbl&gt;</th></tr>\n",
       "</thead>\n",
       "<tbody>\n",
       "\t<tr><td>rmse</td><td>standard</td><td>1.4569612</td></tr>\n",
       "\t<tr><td>rsq </td><td>standard</td><td>0.4982893</td></tr>\n",
       "\t<tr><td>mae </td><td>standard</td><td>1.1334623</td></tr>\n",
       "</tbody>\n",
       "</table>\n"
      ],
      "text/latex": [
       "A tibble: 3 × 3\n",
       "\\begin{tabular}{lll}\n",
       " .metric & .estimator & .estimate\\\\\n",
       " <chr> & <chr> & <dbl>\\\\\n",
       "\\hline\n",
       "\t rmse & standard & 1.4569612\\\\\n",
       "\t rsq  & standard & 0.4982893\\\\\n",
       "\t mae  & standard & 1.1334623\\\\\n",
       "\\end{tabular}\n"
      ],
      "text/markdown": [
       "\n",
       "A tibble: 3 × 3\n",
       "\n",
       "| .metric &lt;chr&gt; | .estimator &lt;chr&gt; | .estimate &lt;dbl&gt; |\n",
       "|---|---|---|\n",
       "| rmse | standard | 1.4569612 |\n",
       "| rsq  | standard | 0.4982893 |\n",
       "| mae  | standard | 1.1334623 |\n",
       "\n"
      ],
      "text/plain": [
       "  .metric .estimator .estimate\n",
       "1 rmse    standard   1.4569612\n",
       "2 rsq     standard   0.4982893\n",
       "3 mae     standard   1.1334623"
      ]
     },
     "metadata": {},
     "output_type": "display_data"
    }
   ],
   "source": [
    "set.seed(1234)\n",
    "\n",
    "k_min <- match_min %>%\n",
    "         pull(neighbors)\n",
    "\n",
    "match_best_spec <- nearest_neighbor(weight_func = \"rectangular\", neighbors = k_min) %>%\n",
    "         set_engine(\"kknn\") %>%\n",
    "         set_mode(\"regression\")\n",
    "\n",
    "match_best_fit <- workflow() %>%\n",
    "         add_recipe(match_recipe_home) %>%\n",
    "         add_model(match_best_spec) %>%\n",
    "         fit(data = match_train)\n",
    "\n",
    "match_summary <- match_best_fit %>%\n",
    "          predict(match_test) %>%\n",
    "          bind_cols(match_test) %>%\n",
    "          metrics(truth = NetScore, estimate = .pred)\n",
    "\n",
    "match_summary"
   ]
  },
  {
   "cell_type": "code",
   "execution_count": 72,
   "metadata": {},
   "outputs": [
    {
     "data": {
      "text/html": [
       "<table>\n",
       "<caption>A tibble: 286 × 64</caption>\n",
       "<thead>\n",
       "\t<tr><th scope=col>.pred</th><th scope=col>Div</th><th scope=col>Date</th><th scope=col>HomeTeam</th><th scope=col>AwayTeam</th><th scope=col>FTHG</th><th scope=col>FTAG</th><th scope=col>FTR</th><th scope=col>HTHG</th><th scope=col>HTAG</th><th scope=col>⋯</th><th scope=col>BbAH</th><th scope=col>BbAHh</th><th scope=col>BbMxAHH</th><th scope=col>BbAvAHH</th><th scope=col>BbMxAHA</th><th scope=col>BbAvAHA</th><th scope=col>PSCH</th><th scope=col>PSCD</th><th scope=col>PSCA</th><th scope=col>NetScore</th></tr>\n",
       "\t<tr><th scope=col>&lt;int&gt;</th><th scope=col>&lt;chr&gt;</th><th scope=col>&lt;chr&gt;</th><th scope=col>&lt;fct&gt;</th><th scope=col>&lt;fct&gt;</th><th scope=col>&lt;int&gt;</th><th scope=col>&lt;int&gt;</th><th scope=col>&lt;fct&gt;</th><th scope=col>&lt;dbl&gt;</th><th scope=col>&lt;dbl&gt;</th><th scope=col>⋯</th><th scope=col>&lt;dbl&gt;</th><th scope=col>&lt;dbl&gt;</th><th scope=col>&lt;dbl&gt;</th><th scope=col>&lt;dbl&gt;</th><th scope=col>&lt;dbl&gt;</th><th scope=col>&lt;dbl&gt;</th><th scope=col>&lt;dbl&gt;</th><th scope=col>&lt;dbl&gt;</th><th scope=col>&lt;dbl&gt;</th><th scope=col>&lt;int&gt;</th></tr>\n",
       "</thead>\n",
       "<tbody>\n",
       "\t<tr><td>-1</td><td>E0</td><td>11/08/2018</td><td>Fulham      </td><td>Crystal Palace</td><td>0</td><td>2</td><td>A</td><td>0</td><td>1</td><td>⋯</td><td>22</td><td>-0.25</td><td>2.18</td><td>2.11</td><td>1.81</td><td>1.77</td><td>2.62</td><td>3.38</td><td>2.90</td><td>-2</td></tr>\n",
       "\t<tr><td>-2</td><td>E0</td><td>11/08/2018</td><td>Huddersfield</td><td>Chelsea       </td><td>0</td><td>3</td><td>A</td><td>0</td><td>2</td><td>⋯</td><td>23</td><td> 1.00</td><td>1.84</td><td>1.80</td><td>2.13</td><td>2.06</td><td>7.24</td><td>3.95</td><td>1.58</td><td>-3</td></tr>\n",
       "\t<tr><td>-1</td><td>E0</td><td>11/08/2018</td><td>Newcastle   </td><td>Tottenham     </td><td>1</td><td>2</td><td>A</td><td>1</td><td>2</td><td>⋯</td><td>20</td><td> 0.25</td><td>2.20</td><td>2.12</td><td>1.80</td><td>1.76</td><td>4.74</td><td>3.53</td><td>1.89</td><td>-1</td></tr>\n",
       "\t<tr><td>⋮</td><td>⋮</td><td>⋮</td><td>⋮</td><td>⋮</td><td>⋮</td><td>⋮</td><td>⋮</td><td>⋮</td><td>⋮</td><td>⋱</td><td>⋮</td><td>⋮</td><td>⋮</td><td>⋮</td><td>⋮</td><td>⋮</td><td>⋮</td><td>⋮</td><td>⋮</td><td>⋮</td></tr>\n",
       "\t<tr><td> 0</td><td>E0</td><td>12/05/2019</td><td>Man United</td><td>Cardiff </td><td>0</td><td>2</td><td>A</td><td>0</td><td>1</td><td>⋯</td><td>21</td><td>-2.0</td><td>2.52</td><td>2.32</td><td>1.72</td><td>1.64</td><td>1.30</td><td>6.06</td><td>9.71</td><td>-2</td></tr>\n",
       "\t<tr><td> 0</td><td>E0</td><td>12/05/2019</td><td>Tottenham </td><td>Everton </td><td>2</td><td>2</td><td>D</td><td>1</td><td>0</td><td>⋯</td><td>19</td><td>-0.5</td><td>2.13</td><td>2.08</td><td>1.85</td><td>1.80</td><td>1.91</td><td>3.81</td><td>4.15</td><td> 0</td></tr>\n",
       "\t<tr><td>-1</td><td>E0</td><td>12/05/2019</td><td>Watford   </td><td>West Ham</td><td>1</td><td>4</td><td>A</td><td>0</td><td>2</td><td>⋯</td><td>19</td><td>-0.5</td><td>2.25</td><td>2.19</td><td>1.78</td><td>1.72</td><td>2.11</td><td>3.86</td><td>3.41</td><td>-3</td></tr>\n",
       "</tbody>\n",
       "</table>\n"
      ],
      "text/latex": [
       "A tibble: 286 × 64\n",
       "\\begin{tabular}{lllllllllllllllllllll}\n",
       " .pred & Div & Date & HomeTeam & AwayTeam & FTHG & FTAG & FTR & HTHG & HTAG & ⋯ & BbAH & BbAHh & BbMxAHH & BbAvAHH & BbMxAHA & BbAvAHA & PSCH & PSCD & PSCA & NetScore\\\\\n",
       " <int> & <chr> & <chr> & <fct> & <fct> & <int> & <int> & <fct> & <dbl> & <dbl> & ⋯ & <dbl> & <dbl> & <dbl> & <dbl> & <dbl> & <dbl> & <dbl> & <dbl> & <dbl> & <int>\\\\\n",
       "\\hline\n",
       "\t -1 & E0 & 11/08/2018 & Fulham       & Crystal Palace & 0 & 2 & A & 0 & 1 & ⋯ & 22 & -0.25 & 2.18 & 2.11 & 1.81 & 1.77 & 2.62 & 3.38 & 2.90 & -2\\\\\n",
       "\t -2 & E0 & 11/08/2018 & Huddersfield & Chelsea        & 0 & 3 & A & 0 & 2 & ⋯ & 23 &  1.00 & 1.84 & 1.80 & 2.13 & 2.06 & 7.24 & 3.95 & 1.58 & -3\\\\\n",
       "\t -1 & E0 & 11/08/2018 & Newcastle    & Tottenham      & 1 & 2 & A & 1 & 2 & ⋯ & 20 &  0.25 & 2.20 & 2.12 & 1.80 & 1.76 & 4.74 & 3.53 & 1.89 & -1\\\\\n",
       "\t ⋮ & ⋮ & ⋮ & ⋮ & ⋮ & ⋮ & ⋮ & ⋮ & ⋮ & ⋮ & ⋱ & ⋮ & ⋮ & ⋮ & ⋮ & ⋮ & ⋮ & ⋮ & ⋮ & ⋮ & ⋮\\\\\n",
       "\t  0 & E0 & 12/05/2019 & Man United & Cardiff  & 0 & 2 & A & 0 & 1 & ⋯ & 21 & -2.0 & 2.52 & 2.32 & 1.72 & 1.64 & 1.30 & 6.06 & 9.71 & -2\\\\\n",
       "\t  0 & E0 & 12/05/2019 & Tottenham  & Everton  & 2 & 2 & D & 1 & 0 & ⋯ & 19 & -0.5 & 2.13 & 2.08 & 1.85 & 1.80 & 1.91 & 3.81 & 4.15 &  0\\\\\n",
       "\t -1 & E0 & 12/05/2019 & Watford    & West Ham & 1 & 4 & A & 0 & 2 & ⋯ & 19 & -0.5 & 2.25 & 2.19 & 1.78 & 1.72 & 2.11 & 3.86 & 3.41 & -3\\\\\n",
       "\\end{tabular}\n"
      ],
      "text/markdown": [
       "\n",
       "A tibble: 286 × 64\n",
       "\n",
       "| .pred &lt;int&gt; | Div &lt;chr&gt; | Date &lt;chr&gt; | HomeTeam &lt;fct&gt; | AwayTeam &lt;fct&gt; | FTHG &lt;int&gt; | FTAG &lt;int&gt; | FTR &lt;fct&gt; | HTHG &lt;dbl&gt; | HTAG &lt;dbl&gt; | ⋯ ⋯ | BbAH &lt;dbl&gt; | BbAHh &lt;dbl&gt; | BbMxAHH &lt;dbl&gt; | BbAvAHH &lt;dbl&gt; | BbMxAHA &lt;dbl&gt; | BbAvAHA &lt;dbl&gt; | PSCH &lt;dbl&gt; | PSCD &lt;dbl&gt; | PSCA &lt;dbl&gt; | NetScore &lt;int&gt; |\n",
       "|---|---|---|---|---|---|---|---|---|---|---|---|---|---|---|---|---|---|---|---|---|\n",
       "| -1 | E0 | 11/08/2018 | Fulham       | Crystal Palace | 0 | 2 | A | 0 | 1 | ⋯ | 22 | -0.25 | 2.18 | 2.11 | 1.81 | 1.77 | 2.62 | 3.38 | 2.90 | -2 |\n",
       "| -2 | E0 | 11/08/2018 | Huddersfield | Chelsea        | 0 | 3 | A | 0 | 2 | ⋯ | 23 |  1.00 | 1.84 | 1.80 | 2.13 | 2.06 | 7.24 | 3.95 | 1.58 | -3 |\n",
       "| -1 | E0 | 11/08/2018 | Newcastle    | Tottenham      | 1 | 2 | A | 1 | 2 | ⋯ | 20 |  0.25 | 2.20 | 2.12 | 1.80 | 1.76 | 4.74 | 3.53 | 1.89 | -1 |\n",
       "| ⋮ | ⋮ | ⋮ | ⋮ | ⋮ | ⋮ | ⋮ | ⋮ | ⋮ | ⋮ | ⋱ | ⋮ | ⋮ | ⋮ | ⋮ | ⋮ | ⋮ | ⋮ | ⋮ | ⋮ | ⋮ |\n",
       "|  0 | E0 | 12/05/2019 | Man United | Cardiff  | 0 | 2 | A | 0 | 1 | ⋯ | 21 | -2.0 | 2.52 | 2.32 | 1.72 | 1.64 | 1.30 | 6.06 | 9.71 | -2 |\n",
       "|  0 | E0 | 12/05/2019 | Tottenham  | Everton  | 2 | 2 | D | 1 | 0 | ⋯ | 19 | -0.5 | 2.13 | 2.08 | 1.85 | 1.80 | 1.91 | 3.81 | 4.15 |  0 |\n",
       "| -1 | E0 | 12/05/2019 | Watford    | West Ham | 1 | 4 | A | 0 | 2 | ⋯ | 19 | -0.5 | 2.25 | 2.19 | 1.78 | 1.72 | 2.11 | 3.86 | 3.41 | -3 |\n",
       "\n"
      ],
      "text/plain": [
       "    .pred Div Date       HomeTeam     AwayTeam       FTHG FTAG FTR HTHG HTAG ⋯\n",
       "1   -1    E0  11/08/2018 Fulham       Crystal Palace 0    2    A   0    1    ⋯\n",
       "2   -2    E0  11/08/2018 Huddersfield Chelsea        0    3    A   0    2    ⋯\n",
       "3   -1    E0  11/08/2018 Newcastle    Tottenham      1    2    A   1    2    ⋯\n",
       "⋮   ⋮     ⋮   ⋮          ⋮            ⋮              ⋮    ⋮    ⋮   ⋮    ⋮    ⋱\n",
       "284  0    E0  12/05/2019 Man United   Cardiff        0    2    A   0    1    ⋯\n",
       "285  0    E0  12/05/2019 Tottenham    Everton        2    2    D   1    0    ⋯\n",
       "286 -1    E0  12/05/2019 Watford      West Ham       1    4    A   0    2    ⋯\n",
       "    BbAH BbAHh BbMxAHH BbAvAHH BbMxAHA BbAvAHA PSCH PSCD PSCA NetScore\n",
       "1   22   -0.25 2.18    2.11    1.81    1.77    2.62 3.38 2.90 -2      \n",
       "2   23    1.00 1.84    1.80    2.13    2.06    7.24 3.95 1.58 -3      \n",
       "3   20    0.25 2.20    2.12    1.80    1.76    4.74 3.53 1.89 -1      \n",
       "⋮   ⋮    ⋮     ⋮       ⋮       ⋮       ⋮       ⋮    ⋮    ⋮    ⋮       \n",
       "284 21   -2.0  2.52    2.32    1.72    1.64    1.30 6.06 9.71 -2      \n",
       "285 19   -0.5  2.13    2.08    1.85    1.80    1.91 3.81 4.15  0      \n",
       "286 19   -0.5  2.25    2.19    1.78    1.72    2.11 3.86 3.41 -3      "
      ]
     },
     "metadata": {},
     "output_type": "display_data"
    }
   ],
   "source": [
    "set.seed(2019)\n",
    "\n",
    "options(repr.plot.width = 7, repr.plot.height = 7)\n",
    "\n",
    "match_preds <- match_best_fit %>% \n",
    "        predict(match_train) %>% \n",
    "        bind_cols(match_train) %>% \n",
    "        mutate(.pred = as.integer(round(.pred)))\n",
    "        \n",
    "\n",
    "match_preds\n",
    "\n",
    "# match_plot <- match_train %>% \n",
    "#         ggplot(aes(x= NetScore, y= NetScore)) +\n",
    "#         geom_point(alpha=0.5) +\n",
    "#         geom_line(data = match_preds,\n",
    "#                  mapping = aes(x = NetScore, y= .pred),\n",
    "#                  color = \"blue\") + \n",
    "#         xlab(\"Half Time Goals\")+\n",
    "#         ylab(\"Full Times Goals\") +\n",
    "#         ggtitle(\"Cool Title bRo\") \n",
    "\n",
    "# match_plot"
   ]
  },
  {
   "cell_type": "code",
   "execution_count": null,
   "metadata": {},
   "outputs": [],
   "source": []
  }
 ],
 "metadata": {
  "kernelspec": {
   "display_name": "R",
   "language": "R",
   "name": "ir"
  },
  "language_info": {
   "codemirror_mode": "r",
   "file_extension": ".r",
   "mimetype": "text/x-r-source",
   "name": "R",
   "pygments_lexer": "r",
   "version": "4.0.0"
  }
 },
 "nbformat": 4,
 "nbformat_minor": 4
}
