{
 "cells": [
  {
   "cell_type": "code",
   "execution_count": 2,
   "metadata": {},
   "outputs": [
    {
     "name": "stderr",
     "output_type": "stream",
     "text": [
      "── \u001b[1mAttaching packages\u001b[22m ─────────────────────────────────────── tidyverse 1.3.0 ──\n",
      "\n",
      "\u001b[32m✔\u001b[39m \u001b[34mggplot2\u001b[39m 3.3.2     \u001b[32m✔\u001b[39m \u001b[34mpurrr  \u001b[39m 0.3.4\n",
      "\u001b[32m✔\u001b[39m \u001b[34mtibble \u001b[39m 3.0.3     \u001b[32m✔\u001b[39m \u001b[34mdplyr  \u001b[39m 1.0.2\n",
      "\u001b[32m✔\u001b[39m \u001b[34mtidyr  \u001b[39m 1.1.2     \u001b[32m✔\u001b[39m \u001b[34mstringr\u001b[39m 1.4.0\n",
      "\u001b[32m✔\u001b[39m \u001b[34mreadr  \u001b[39m 1.3.1     \u001b[32m✔\u001b[39m \u001b[34mforcats\u001b[39m 0.5.0\n",
      "\n",
      "Warning message:\n",
      "“package ‘ggplot2’ was built under R version 4.0.1”\n",
      "Warning message:\n",
      "“package ‘tibble’ was built under R version 4.0.2”\n",
      "Warning message:\n",
      "“package ‘tidyr’ was built under R version 4.0.2”\n",
      "Warning message:\n",
      "“package ‘dplyr’ was built under R version 4.0.2”\n",
      "── \u001b[1mConflicts\u001b[22m ────────────────────────────────────────── tidyverse_conflicts() ──\n",
      "\u001b[31m✖\u001b[39m \u001b[34mdplyr\u001b[39m::\u001b[32mfilter()\u001b[39m masks \u001b[34mstats\u001b[39m::filter()\n",
      "\u001b[31m✖\u001b[39m \u001b[34mdplyr\u001b[39m::\u001b[32mlag()\u001b[39m    masks \u001b[34mstats\u001b[39m::lag()\n",
      "\n",
      "Warning message:\n",
      "“package ‘tidymodels’ was built under R version 4.0.2”\n",
      "── \u001b[1mAttaching packages\u001b[22m ────────────────────────────────────── tidymodels 0.1.1 ──\n",
      "\n",
      "\u001b[32m✔\u001b[39m \u001b[34mbroom    \u001b[39m 0.7.0      \u001b[32m✔\u001b[39m \u001b[34mrecipes  \u001b[39m 0.1.13\n",
      "\u001b[32m✔\u001b[39m \u001b[34mdials    \u001b[39m 0.0.9      \u001b[32m✔\u001b[39m \u001b[34mrsample  \u001b[39m 0.0.7 \n",
      "\u001b[32m✔\u001b[39m \u001b[34minfer    \u001b[39m 0.5.4      \u001b[32m✔\u001b[39m \u001b[34mtune     \u001b[39m 0.1.1 \n",
      "\u001b[32m✔\u001b[39m \u001b[34mmodeldata\u001b[39m 0.0.2      \u001b[32m✔\u001b[39m \u001b[34mworkflows\u001b[39m 0.2.0 \n",
      "\u001b[32m✔\u001b[39m \u001b[34mparsnip  \u001b[39m 0.1.3      \u001b[32m✔\u001b[39m \u001b[34myardstick\u001b[39m 0.0.7 \n",
      "\n",
      "Warning message:\n",
      "“package ‘broom’ was built under R version 4.0.2”\n",
      "Warning message:\n",
      "“package ‘dials’ was built under R version 4.0.2”\n",
      "Warning message:\n",
      "“package ‘infer’ was built under R version 4.0.3”\n",
      "Warning message:\n",
      "“package ‘modeldata’ was built under R version 4.0.1”\n",
      "Warning message:\n",
      "“package ‘parsnip’ was built under R version 4.0.2”\n",
      "Warning message:\n",
      "“package ‘recipes’ was built under R version 4.0.1”\n",
      "Warning message:\n",
      "“package ‘tune’ was built under R version 4.0.2”\n",
      "Warning message:\n",
      "“package ‘workflows’ was built under R version 4.0.2”\n",
      "Warning message:\n",
      "“package ‘yardstick’ was built under R version 4.0.2”\n",
      "── \u001b[1mConflicts\u001b[22m ───────────────────────────────────────── tidymodels_conflicts() ──\n",
      "\u001b[31m✖\u001b[39m \u001b[34mscales\u001b[39m::\u001b[32mdiscard()\u001b[39m masks \u001b[34mpurrr\u001b[39m::discard()\n",
      "\u001b[31m✖\u001b[39m \u001b[34mdplyr\u001b[39m::\u001b[32mfilter()\u001b[39m   masks \u001b[34mstats\u001b[39m::filter()\n",
      "\u001b[31m✖\u001b[39m \u001b[34mrecipes\u001b[39m::\u001b[32mfixed()\u001b[39m  masks \u001b[34mstringr\u001b[39m::fixed()\n",
      "\u001b[31m✖\u001b[39m \u001b[34mdplyr\u001b[39m::\u001b[32mlag()\u001b[39m      masks \u001b[34mstats\u001b[39m::lag()\n",
      "\u001b[31m✖\u001b[39m \u001b[34myardstick\u001b[39m::\u001b[32mspec()\u001b[39m masks \u001b[34mreadr\u001b[39m::spec()\n",
      "\u001b[31m✖\u001b[39m \u001b[34mrecipes\u001b[39m::\u001b[32mstep()\u001b[39m   masks \u001b[34mstats\u001b[39m::step()\n",
      "\n",
      "Warning message in file(filename, \"r\", encoding = encoding):\n",
      "“cannot open file 'tests.R': No such file or directory”\n"
     ]
    },
    {
     "ename": "ERROR",
     "evalue": "Error in file(filename, \"r\", encoding = encoding): cannot open the connection\n",
     "output_type": "error",
     "traceback": [
      "Error in file(filename, \"r\", encoding = encoding): cannot open the connection\nTraceback:\n",
      "1. source(\"tests.R\")",
      "2. file(filename, \"r\", encoding = encoding)"
     ]
    }
   ],
   "source": [
    "### Run this cell before continuing.\n",
    "library(tidyverse)\n",
    "library(repr)\n",
    "library(tidymodels)\n",
    "options(repr.matrix.max.rows = 6)\n",
    "source('tests.R')\n",
    "source('cleanup.R')"
   ]
  },
  {
   "cell_type": "code",
   "execution_count": 6,
   "metadata": {},
   "outputs": [],
   "source": [
    "#yo"
   ]
  },
  {
   "cell_type": "code",
   "execution_count": 4,
   "metadata": {},
   "outputs": [],
   "source": [
    "# carlos testing"
   ]
  },
  {
   "cell_type": "code",
   "execution_count": 4,
   "metadata": {},
   "outputs": [
    {
     "name": "stderr",
     "output_type": "stream",
     "text": [
      "Parsed with column specification:\n",
      "cols(\n",
      "  .default = col_double(),\n",
      "  Div = \u001b[31mcol_character()\u001b[39m,\n",
      "  Date = \u001b[31mcol_character()\u001b[39m,\n",
      "  HomeTeam = \u001b[31mcol_character()\u001b[39m,\n",
      "  AwayTeam = \u001b[31mcol_character()\u001b[39m,\n",
      "  FTR = \u001b[31mcol_character()\u001b[39m,\n",
      "  HTR = \u001b[31mcol_character()\u001b[39m,\n",
      "  Referee = \u001b[31mcol_character()\u001b[39m\n",
      ")\n",
      "\n",
      "See spec(...) for full column specifications.\n",
      "\n"
     ]
    },
    {
     "data": {
      "text/html": [
       "<table>\n",
       "<caption>A spec_tbl_df: 380 × 62</caption>\n",
       "<thead>\n",
       "\t<tr><th scope=col>Div</th><th scope=col>Date</th><th scope=col>HomeTeam</th><th scope=col>AwayTeam</th><th scope=col>FTHG</th><th scope=col>FTAG</th><th scope=col>FTR</th><th scope=col>HTHG</th><th scope=col>HTAG</th><th scope=col>HTR</th><th scope=col>⋯</th><th scope=col>BbAv&lt;2.5</th><th scope=col>BbAH</th><th scope=col>BbAHh</th><th scope=col>BbMxAHH</th><th scope=col>BbAvAHH</th><th scope=col>BbMxAHA</th><th scope=col>BbAvAHA</th><th scope=col>PSCH</th><th scope=col>PSCD</th><th scope=col>PSCA</th></tr>\n",
       "\t<tr><th scope=col>&lt;chr&gt;</th><th scope=col>&lt;chr&gt;</th><th scope=col>&lt;chr&gt;</th><th scope=col>&lt;chr&gt;</th><th scope=col>&lt;dbl&gt;</th><th scope=col>&lt;dbl&gt;</th><th scope=col>&lt;chr&gt;</th><th scope=col>&lt;dbl&gt;</th><th scope=col>&lt;dbl&gt;</th><th scope=col>&lt;chr&gt;</th><th scope=col>⋯</th><th scope=col>&lt;dbl&gt;</th><th scope=col>&lt;dbl&gt;</th><th scope=col>&lt;dbl&gt;</th><th scope=col>&lt;dbl&gt;</th><th scope=col>&lt;dbl&gt;</th><th scope=col>&lt;dbl&gt;</th><th scope=col>&lt;dbl&gt;</th><th scope=col>&lt;dbl&gt;</th><th scope=col>&lt;dbl&gt;</th><th scope=col>&lt;dbl&gt;</th></tr>\n",
       "</thead>\n",
       "<tbody>\n",
       "\t<tr><td>E0</td><td>10/08/2018</td><td>Man United </td><td>Leicester     </td><td>2</td><td>1</td><td>H</td><td>1</td><td>0</td><td>H</td><td>⋯</td><td>1.79</td><td>17</td><td>-0.75</td><td>1.75</td><td>1.70</td><td>2.29</td><td>2.21</td><td>1.55</td><td>4.07</td><td>7.69</td></tr>\n",
       "\t<tr><td>E0</td><td>11/08/2018</td><td>Bournemouth</td><td>Cardiff       </td><td>2</td><td>0</td><td>H</td><td>1</td><td>0</td><td>H</td><td>⋯</td><td>1.83</td><td>20</td><td>-0.75</td><td>2.20</td><td>2.13</td><td>1.80</td><td>1.75</td><td>1.88</td><td>3.61</td><td>4.70</td></tr>\n",
       "\t<tr><td>E0</td><td>11/08/2018</td><td>Fulham     </td><td>Crystal Palace</td><td>0</td><td>2</td><td>A</td><td>0</td><td>1</td><td>A</td><td>⋯</td><td>1.87</td><td>22</td><td>-0.25</td><td>2.18</td><td>2.11</td><td>1.81</td><td>1.77</td><td>2.62</td><td>3.38</td><td>2.90</td></tr>\n",
       "\t<tr><td>⋮</td><td>⋮</td><td>⋮</td><td>⋮</td><td>⋮</td><td>⋮</td><td>⋮</td><td>⋮</td><td>⋮</td><td>⋮</td><td>⋱</td><td>⋮</td><td>⋮</td><td>⋮</td><td>⋮</td><td>⋮</td><td>⋮</td><td>⋮</td><td>⋮</td><td>⋮</td><td>⋮</td></tr>\n",
       "\t<tr><td>E0</td><td>12/05/2019</td><td>Southampton</td><td>Huddersfield</td><td>1</td><td>1</td><td>D</td><td>1</td><td>0</td><td>H</td><td>⋯</td><td>2.29</td><td>22</td><td>-1.5</td><td>2.27</td><td>2.16</td><td>1.80</td><td>1.73</td><td>1.37</td><td>5.36</td><td>8.49</td></tr>\n",
       "\t<tr><td>E0</td><td>12/05/2019</td><td>Tottenham  </td><td>Everton     </td><td>2</td><td>2</td><td>D</td><td>1</td><td>0</td><td>H</td><td>⋯</td><td>2.07</td><td>19</td><td>-0.5</td><td>2.13</td><td>2.08</td><td>1.85</td><td>1.80</td><td>1.91</td><td>3.81</td><td>4.15</td></tr>\n",
       "\t<tr><td>E0</td><td>12/05/2019</td><td>Watford    </td><td>West Ham    </td><td>1</td><td>4</td><td>A</td><td>0</td><td>2</td><td>A</td><td>⋯</td><td>2.44</td><td>19</td><td>-0.5</td><td>2.25</td><td>2.19</td><td>1.78</td><td>1.72</td><td>2.11</td><td>3.86</td><td>3.41</td></tr>\n",
       "</tbody>\n",
       "</table>\n"
      ],
      "text/latex": [
       "A spec\\_tbl\\_df: 380 × 62\n",
       "\\begin{tabular}{lllllllllllllllllllll}\n",
       " Div & Date & HomeTeam & AwayTeam & FTHG & FTAG & FTR & HTHG & HTAG & HTR & ⋯ & BbAv<2.5 & BbAH & BbAHh & BbMxAHH & BbAvAHH & BbMxAHA & BbAvAHA & PSCH & PSCD & PSCA\\\\\n",
       " <chr> & <chr> & <chr> & <chr> & <dbl> & <dbl> & <chr> & <dbl> & <dbl> & <chr> & ⋯ & <dbl> & <dbl> & <dbl> & <dbl> & <dbl> & <dbl> & <dbl> & <dbl> & <dbl> & <dbl>\\\\\n",
       "\\hline\n",
       "\t E0 & 10/08/2018 & Man United  & Leicester      & 2 & 1 & H & 1 & 0 & H & ⋯ & 1.79 & 17 & -0.75 & 1.75 & 1.70 & 2.29 & 2.21 & 1.55 & 4.07 & 7.69\\\\\n",
       "\t E0 & 11/08/2018 & Bournemouth & Cardiff        & 2 & 0 & H & 1 & 0 & H & ⋯ & 1.83 & 20 & -0.75 & 2.20 & 2.13 & 1.80 & 1.75 & 1.88 & 3.61 & 4.70\\\\\n",
       "\t E0 & 11/08/2018 & Fulham      & Crystal Palace & 0 & 2 & A & 0 & 1 & A & ⋯ & 1.87 & 22 & -0.25 & 2.18 & 2.11 & 1.81 & 1.77 & 2.62 & 3.38 & 2.90\\\\\n",
       "\t ⋮ & ⋮ & ⋮ & ⋮ & ⋮ & ⋮ & ⋮ & ⋮ & ⋮ & ⋮ & ⋱ & ⋮ & ⋮ & ⋮ & ⋮ & ⋮ & ⋮ & ⋮ & ⋮ & ⋮ & ⋮\\\\\n",
       "\t E0 & 12/05/2019 & Southampton & Huddersfield & 1 & 1 & D & 1 & 0 & H & ⋯ & 2.29 & 22 & -1.5 & 2.27 & 2.16 & 1.80 & 1.73 & 1.37 & 5.36 & 8.49\\\\\n",
       "\t E0 & 12/05/2019 & Tottenham   & Everton      & 2 & 2 & D & 1 & 0 & H & ⋯ & 2.07 & 19 & -0.5 & 2.13 & 2.08 & 1.85 & 1.80 & 1.91 & 3.81 & 4.15\\\\\n",
       "\t E0 & 12/05/2019 & Watford     & West Ham     & 1 & 4 & A & 0 & 2 & A & ⋯ & 2.44 & 19 & -0.5 & 2.25 & 2.19 & 1.78 & 1.72 & 2.11 & 3.86 & 3.41\\\\\n",
       "\\end{tabular}\n"
      ],
      "text/markdown": [
       "\n",
       "A spec_tbl_df: 380 × 62\n",
       "\n",
       "| Div &lt;chr&gt; | Date &lt;chr&gt; | HomeTeam &lt;chr&gt; | AwayTeam &lt;chr&gt; | FTHG &lt;dbl&gt; | FTAG &lt;dbl&gt; | FTR &lt;chr&gt; | HTHG &lt;dbl&gt; | HTAG &lt;dbl&gt; | HTR &lt;chr&gt; | ⋯ ⋯ | BbAv&lt;2.5 &lt;dbl&gt; | BbAH &lt;dbl&gt; | BbAHh &lt;dbl&gt; | BbMxAHH &lt;dbl&gt; | BbAvAHH &lt;dbl&gt; | BbMxAHA &lt;dbl&gt; | BbAvAHA &lt;dbl&gt; | PSCH &lt;dbl&gt; | PSCD &lt;dbl&gt; | PSCA &lt;dbl&gt; |\n",
       "|---|---|---|---|---|---|---|---|---|---|---|---|---|---|---|---|---|---|---|---|---|\n",
       "| E0 | 10/08/2018 | Man United  | Leicester      | 2 | 1 | H | 1 | 0 | H | ⋯ | 1.79 | 17 | -0.75 | 1.75 | 1.70 | 2.29 | 2.21 | 1.55 | 4.07 | 7.69 |\n",
       "| E0 | 11/08/2018 | Bournemouth | Cardiff        | 2 | 0 | H | 1 | 0 | H | ⋯ | 1.83 | 20 | -0.75 | 2.20 | 2.13 | 1.80 | 1.75 | 1.88 | 3.61 | 4.70 |\n",
       "| E0 | 11/08/2018 | Fulham      | Crystal Palace | 0 | 2 | A | 0 | 1 | A | ⋯ | 1.87 | 22 | -0.25 | 2.18 | 2.11 | 1.81 | 1.77 | 2.62 | 3.38 | 2.90 |\n",
       "| ⋮ | ⋮ | ⋮ | ⋮ | ⋮ | ⋮ | ⋮ | ⋮ | ⋮ | ⋮ | ⋱ | ⋮ | ⋮ | ⋮ | ⋮ | ⋮ | ⋮ | ⋮ | ⋮ | ⋮ | ⋮ |\n",
       "| E0 | 12/05/2019 | Southampton | Huddersfield | 1 | 1 | D | 1 | 0 | H | ⋯ | 2.29 | 22 | -1.5 | 2.27 | 2.16 | 1.80 | 1.73 | 1.37 | 5.36 | 8.49 |\n",
       "| E0 | 12/05/2019 | Tottenham   | Everton      | 2 | 2 | D | 1 | 0 | H | ⋯ | 2.07 | 19 | -0.5 | 2.13 | 2.08 | 1.85 | 1.80 | 1.91 | 3.81 | 4.15 |\n",
       "| E0 | 12/05/2019 | Watford     | West Ham     | 1 | 4 | A | 0 | 2 | A | ⋯ | 2.44 | 19 | -0.5 | 2.25 | 2.19 | 1.78 | 1.72 | 2.11 | 3.86 | 3.41 |\n",
       "\n"
      ],
      "text/plain": [
       "    Div Date       HomeTeam    AwayTeam       FTHG FTAG FTR HTHG HTAG HTR ⋯\n",
       "1   E0  10/08/2018 Man United  Leicester      2    1    H   1    0    H   ⋯\n",
       "2   E0  11/08/2018 Bournemouth Cardiff        2    0    H   1    0    H   ⋯\n",
       "3   E0  11/08/2018 Fulham      Crystal Palace 0    2    A   0    1    A   ⋯\n",
       "⋮   ⋮   ⋮          ⋮           ⋮              ⋮    ⋮    ⋮   ⋮    ⋮    ⋮   ⋱\n",
       "378 E0  12/05/2019 Southampton Huddersfield   1    1    D   1    0    H   ⋯\n",
       "379 E0  12/05/2019 Tottenham   Everton        2    2    D   1    0    H   ⋯\n",
       "380 E0  12/05/2019 Watford     West Ham       1    4    A   0    2    A   ⋯\n",
       "    BbAv<2.5 BbAH BbAHh BbMxAHH BbAvAHH BbMxAHA BbAvAHA PSCH PSCD PSCA\n",
       "1   1.79     17   -0.75 1.75    1.70    2.29    2.21    1.55 4.07 7.69\n",
       "2   1.83     20   -0.75 2.20    2.13    1.80    1.75    1.88 3.61 4.70\n",
       "3   1.87     22   -0.25 2.18    2.11    1.81    1.77    2.62 3.38 2.90\n",
       "⋮   ⋮        ⋮    ⋮     ⋮       ⋮       ⋮       ⋮       ⋮    ⋮    ⋮   \n",
       "378 2.29     22   -1.5  2.27    2.16    1.80    1.73    1.37 5.36 8.49\n",
       "379 2.07     19   -0.5  2.13    2.08    1.85    1.80    1.91 3.81 4.15\n",
       "380 2.44     19   -0.5  2.25    2.19    1.78    1.72    2.11 3.86 3.41"
      ]
     },
     "metadata": {},
     "output_type": "display_data"
    }
   ],
   "source": [
    "match_data <- read_csv(\"data/season_2018.csv\")\n",
    "match_data"
   ]
  },
  {
   "cell_type": "code",
   "execution_count": null,
   "metadata": {},
   "outputs": [],
   "source": []
  },
  {
   "cell_type": "code",
   "execution_count": null,
   "metadata": {},
   "outputs": [],
   "source": []
  }
 ],
 "metadata": {
  "kernelspec": {
   "display_name": "R",
   "language": "R",
   "name": "ir"
  },
  "language_info": {
   "codemirror_mode": "r",
   "file_extension": ".r",
   "mimetype": "text/x-r-source",
   "name": "R",
   "pygments_lexer": "r",
   "version": "4.0.0"
  }
 },
 "nbformat": 4,
 "nbformat_minor": 4
}
