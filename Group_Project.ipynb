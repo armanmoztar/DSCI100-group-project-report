{
 "cells": [
  {
   "cell_type": "code",
   "execution_count": 78,
   "metadata": {},
   "outputs": [],
   "source": [
    "library(repr)\n",
    "library(tidyverse)\n",
    "library(tidymodels)\n",
    "options(repr.matrix.max.rows = 6)\n",
    "#source('tests.R')\n",
    "#source(\"cleanup.R\")\n",
    "set.seed(7493)"
   ]
  },
  {
   "cell_type": "markdown",
   "metadata": {},
   "source": [
    "Here we are reading the data."
   ]
  },
  {
   "cell_type": "code",
   "execution_count": 79,
   "metadata": {},
   "outputs": [
    {
     "name": "stderr",
     "output_type": "stream",
     "text": [
      "Parsed with column specification:\n",
      "cols(\n",
      "  .default = col_double(),\n",
      "  Div = \u001b[31mcol_character()\u001b[39m,\n",
      "  Date = \u001b[31mcol_character()\u001b[39m,\n",
      "  HomeTeam = \u001b[31mcol_character()\u001b[39m,\n",
      "  AwayTeam = \u001b[31mcol_character()\u001b[39m,\n",
      "  FTR = \u001b[31mcol_character()\u001b[39m,\n",
      "  HTR = \u001b[31mcol_character()\u001b[39m,\n",
      "  Referee = \u001b[31mcol_character()\u001b[39m\n",
      ")\n",
      "\n",
      "See spec(...) for full column specifications.\n",
      "\n"
     ]
    },
    {
     "data": {
      "text/html": [
       "<table>\n",
       "<caption>A spec_tbl_df: 380 × 62</caption>\n",
       "<thead>\n",
       "\t<tr><th scope=col>Div</th><th scope=col>Date</th><th scope=col>HomeTeam</th><th scope=col>AwayTeam</th><th scope=col>FTHG</th><th scope=col>FTAG</th><th scope=col>FTR</th><th scope=col>HTHG</th><th scope=col>HTAG</th><th scope=col>HTR</th><th scope=col>⋯</th><th scope=col>BbAv&lt;2.5</th><th scope=col>BbAH</th><th scope=col>BbAHh</th><th scope=col>BbMxAHH</th><th scope=col>BbAvAHH</th><th scope=col>BbMxAHA</th><th scope=col>BbAvAHA</th><th scope=col>PSCH</th><th scope=col>PSCD</th><th scope=col>PSCA</th></tr>\n",
       "\t<tr><th scope=col>&lt;chr&gt;</th><th scope=col>&lt;chr&gt;</th><th scope=col>&lt;fct&gt;</th><th scope=col>&lt;fct&gt;</th><th scope=col>&lt;int&gt;</th><th scope=col>&lt;int&gt;</th><th scope=col>&lt;fct&gt;</th><th scope=col>&lt;dbl&gt;</th><th scope=col>&lt;dbl&gt;</th><th scope=col>&lt;chr&gt;</th><th scope=col>⋯</th><th scope=col>&lt;dbl&gt;</th><th scope=col>&lt;dbl&gt;</th><th scope=col>&lt;dbl&gt;</th><th scope=col>&lt;dbl&gt;</th><th scope=col>&lt;dbl&gt;</th><th scope=col>&lt;dbl&gt;</th><th scope=col>&lt;dbl&gt;</th><th scope=col>&lt;dbl&gt;</th><th scope=col>&lt;dbl&gt;</th><th scope=col>&lt;dbl&gt;</th></tr>\n",
       "</thead>\n",
       "<tbody>\n",
       "\t<tr><td>E0</td><td>10/08/2018</td><td>Man United </td><td>Leicester     </td><td>2</td><td>1</td><td>H</td><td>1</td><td>0</td><td>H</td><td>⋯</td><td>1.79</td><td>17</td><td>-0.75</td><td>1.75</td><td>1.70</td><td>2.29</td><td>2.21</td><td>1.55</td><td>4.07</td><td>7.69</td></tr>\n",
       "\t<tr><td>E0</td><td>11/08/2018</td><td>Bournemouth</td><td>Cardiff       </td><td>2</td><td>0</td><td>H</td><td>1</td><td>0</td><td>H</td><td>⋯</td><td>1.83</td><td>20</td><td>-0.75</td><td>2.20</td><td>2.13</td><td>1.80</td><td>1.75</td><td>1.88</td><td>3.61</td><td>4.70</td></tr>\n",
       "\t<tr><td>E0</td><td>11/08/2018</td><td>Fulham     </td><td>Crystal Palace</td><td>0</td><td>2</td><td>A</td><td>0</td><td>1</td><td>A</td><td>⋯</td><td>1.87</td><td>22</td><td>-0.25</td><td>2.18</td><td>2.11</td><td>1.81</td><td>1.77</td><td>2.62</td><td>3.38</td><td>2.90</td></tr>\n",
       "\t<tr><td>⋮</td><td>⋮</td><td>⋮</td><td>⋮</td><td>⋮</td><td>⋮</td><td>⋮</td><td>⋮</td><td>⋮</td><td>⋮</td><td>⋱</td><td>⋮</td><td>⋮</td><td>⋮</td><td>⋮</td><td>⋮</td><td>⋮</td><td>⋮</td><td>⋮</td><td>⋮</td><td>⋮</td></tr>\n",
       "\t<tr><td>E0</td><td>12/05/2019</td><td>Southampton</td><td>Huddersfield</td><td>1</td><td>1</td><td>D</td><td>1</td><td>0</td><td>H</td><td>⋯</td><td>2.29</td><td>22</td><td>-1.5</td><td>2.27</td><td>2.16</td><td>1.80</td><td>1.73</td><td>1.37</td><td>5.36</td><td>8.49</td></tr>\n",
       "\t<tr><td>E0</td><td>12/05/2019</td><td>Tottenham  </td><td>Everton     </td><td>2</td><td>2</td><td>D</td><td>1</td><td>0</td><td>H</td><td>⋯</td><td>2.07</td><td>19</td><td>-0.5</td><td>2.13</td><td>2.08</td><td>1.85</td><td>1.80</td><td>1.91</td><td>3.81</td><td>4.15</td></tr>\n",
       "\t<tr><td>E0</td><td>12/05/2019</td><td>Watford    </td><td>West Ham    </td><td>1</td><td>4</td><td>A</td><td>0</td><td>2</td><td>A</td><td>⋯</td><td>2.44</td><td>19</td><td>-0.5</td><td>2.25</td><td>2.19</td><td>1.78</td><td>1.72</td><td>2.11</td><td>3.86</td><td>3.41</td></tr>\n",
       "</tbody>\n",
       "</table>\n"
      ],
      "text/latex": [
       "A spec\\_tbl\\_df: 380 × 62\n",
       "\\begin{tabular}{lllllllllllllllllllll}\n",
       " Div & Date & HomeTeam & AwayTeam & FTHG & FTAG & FTR & HTHG & HTAG & HTR & ⋯ & BbAv<2.5 & BbAH & BbAHh & BbMxAHH & BbAvAHH & BbMxAHA & BbAvAHA & PSCH & PSCD & PSCA\\\\\n",
       " <chr> & <chr> & <fct> & <fct> & <int> & <int> & <fct> & <dbl> & <dbl> & <chr> & ⋯ & <dbl> & <dbl> & <dbl> & <dbl> & <dbl> & <dbl> & <dbl> & <dbl> & <dbl> & <dbl>\\\\\n",
       "\\hline\n",
       "\t E0 & 10/08/2018 & Man United  & Leicester      & 2 & 1 & H & 1 & 0 & H & ⋯ & 1.79 & 17 & -0.75 & 1.75 & 1.70 & 2.29 & 2.21 & 1.55 & 4.07 & 7.69\\\\\n",
       "\t E0 & 11/08/2018 & Bournemouth & Cardiff        & 2 & 0 & H & 1 & 0 & H & ⋯ & 1.83 & 20 & -0.75 & 2.20 & 2.13 & 1.80 & 1.75 & 1.88 & 3.61 & 4.70\\\\\n",
       "\t E0 & 11/08/2018 & Fulham      & Crystal Palace & 0 & 2 & A & 0 & 1 & A & ⋯ & 1.87 & 22 & -0.25 & 2.18 & 2.11 & 1.81 & 1.77 & 2.62 & 3.38 & 2.90\\\\\n",
       "\t ⋮ & ⋮ & ⋮ & ⋮ & ⋮ & ⋮ & ⋮ & ⋮ & ⋮ & ⋮ & ⋱ & ⋮ & ⋮ & ⋮ & ⋮ & ⋮ & ⋮ & ⋮ & ⋮ & ⋮ & ⋮\\\\\n",
       "\t E0 & 12/05/2019 & Southampton & Huddersfield & 1 & 1 & D & 1 & 0 & H & ⋯ & 2.29 & 22 & -1.5 & 2.27 & 2.16 & 1.80 & 1.73 & 1.37 & 5.36 & 8.49\\\\\n",
       "\t E0 & 12/05/2019 & Tottenham   & Everton      & 2 & 2 & D & 1 & 0 & H & ⋯ & 2.07 & 19 & -0.5 & 2.13 & 2.08 & 1.85 & 1.80 & 1.91 & 3.81 & 4.15\\\\\n",
       "\t E0 & 12/05/2019 & Watford     & West Ham     & 1 & 4 & A & 0 & 2 & A & ⋯ & 2.44 & 19 & -0.5 & 2.25 & 2.19 & 1.78 & 1.72 & 2.11 & 3.86 & 3.41\\\\\n",
       "\\end{tabular}\n"
      ],
      "text/markdown": [
       "\n",
       "A spec_tbl_df: 380 × 62\n",
       "\n",
       "| Div &lt;chr&gt; | Date &lt;chr&gt; | HomeTeam &lt;fct&gt; | AwayTeam &lt;fct&gt; | FTHG &lt;int&gt; | FTAG &lt;int&gt; | FTR &lt;fct&gt; | HTHG &lt;dbl&gt; | HTAG &lt;dbl&gt; | HTR &lt;chr&gt; | ⋯ ⋯ | BbAv&lt;2.5 &lt;dbl&gt; | BbAH &lt;dbl&gt; | BbAHh &lt;dbl&gt; | BbMxAHH &lt;dbl&gt; | BbAvAHH &lt;dbl&gt; | BbMxAHA &lt;dbl&gt; | BbAvAHA &lt;dbl&gt; | PSCH &lt;dbl&gt; | PSCD &lt;dbl&gt; | PSCA &lt;dbl&gt; |\n",
       "|---|---|---|---|---|---|---|---|---|---|---|---|---|---|---|---|---|---|---|---|---|\n",
       "| E0 | 10/08/2018 | Man United  | Leicester      | 2 | 1 | H | 1 | 0 | H | ⋯ | 1.79 | 17 | -0.75 | 1.75 | 1.70 | 2.29 | 2.21 | 1.55 | 4.07 | 7.69 |\n",
       "| E0 | 11/08/2018 | Bournemouth | Cardiff        | 2 | 0 | H | 1 | 0 | H | ⋯ | 1.83 | 20 | -0.75 | 2.20 | 2.13 | 1.80 | 1.75 | 1.88 | 3.61 | 4.70 |\n",
       "| E0 | 11/08/2018 | Fulham      | Crystal Palace | 0 | 2 | A | 0 | 1 | A | ⋯ | 1.87 | 22 | -0.25 | 2.18 | 2.11 | 1.81 | 1.77 | 2.62 | 3.38 | 2.90 |\n",
       "| ⋮ | ⋮ | ⋮ | ⋮ | ⋮ | ⋮ | ⋮ | ⋮ | ⋮ | ⋮ | ⋱ | ⋮ | ⋮ | ⋮ | ⋮ | ⋮ | ⋮ | ⋮ | ⋮ | ⋮ | ⋮ |\n",
       "| E0 | 12/05/2019 | Southampton | Huddersfield | 1 | 1 | D | 1 | 0 | H | ⋯ | 2.29 | 22 | -1.5 | 2.27 | 2.16 | 1.80 | 1.73 | 1.37 | 5.36 | 8.49 |\n",
       "| E0 | 12/05/2019 | Tottenham   | Everton      | 2 | 2 | D | 1 | 0 | H | ⋯ | 2.07 | 19 | -0.5 | 2.13 | 2.08 | 1.85 | 1.80 | 1.91 | 3.81 | 4.15 |\n",
       "| E0 | 12/05/2019 | Watford     | West Ham     | 1 | 4 | A | 0 | 2 | A | ⋯ | 2.44 | 19 | -0.5 | 2.25 | 2.19 | 1.78 | 1.72 | 2.11 | 3.86 | 3.41 |\n",
       "\n"
      ],
      "text/plain": [
       "    Div Date       HomeTeam    AwayTeam       FTHG FTAG FTR HTHG HTAG HTR ⋯\n",
       "1   E0  10/08/2018 Man United  Leicester      2    1    H   1    0    H   ⋯\n",
       "2   E0  11/08/2018 Bournemouth Cardiff        2    0    H   1    0    H   ⋯\n",
       "3   E0  11/08/2018 Fulham      Crystal Palace 0    2    A   0    1    A   ⋯\n",
       "⋮   ⋮   ⋮          ⋮           ⋮              ⋮    ⋮    ⋮   ⋮    ⋮    ⋮   ⋱\n",
       "378 E0  12/05/2019 Southampton Huddersfield   1    1    D   1    0    H   ⋯\n",
       "379 E0  12/05/2019 Tottenham   Everton        2    2    D   1    0    H   ⋯\n",
       "380 E0  12/05/2019 Watford     West Ham       1    4    A   0    2    A   ⋯\n",
       "    BbAv<2.5 BbAH BbAHh BbMxAHH BbAvAHH BbMxAHA BbAvAHA PSCH PSCD PSCA\n",
       "1   1.79     17   -0.75 1.75    1.70    2.29    2.21    1.55 4.07 7.69\n",
       "2   1.83     20   -0.75 2.20    2.13    1.80    1.75    1.88 3.61 4.70\n",
       "3   1.87     22   -0.25 2.18    2.11    1.81    1.77    2.62 3.38 2.90\n",
       "⋮   ⋮        ⋮    ⋮     ⋮       ⋮       ⋮       ⋮       ⋮    ⋮    ⋮   \n",
       "378 2.29     22   -1.5  2.27    2.16    1.80    1.73    1.37 5.36 8.49\n",
       "379 2.07     19   -0.5  2.13    2.08    1.85    1.80    1.91 3.81 4.15\n",
       "380 2.44     19   -0.5  2.25    2.19    1.78    1.72    2.11 3.86 3.41"
      ]
     },
     "metadata": {},
     "output_type": "display_data"
    }
   ],
   "source": [
    "match_data <- read_csv(\"data/season_2018.csv\") %>% \n",
    "            mutate(FTR = as_factor(FTR)) %>% \n",
    "            mutate(FTHG = as.integer(FTHG)) %>% \n",
    "            mutate(FTAG = as.integer(FTAG)) %>% \n",
    "            mutate(HomeTeam = as_factor(HomeTeam)) %>% \n",
    "            mutate(AwayTeam = as_factor(AwayTeam))\n",
    "match_data "
   ]
  },
  {
   "cell_type": "code",
   "execution_count": 80,
   "metadata": {},
   "outputs": [],
   "source": [
    "match_split <- initial_split(match_data, prop = 3/4, strata = \"FTR\")  \n",
    "match_train <- training(match_split)   \n",
    "match_test <- testing(match_split)\n"
   ]
  },
  {
   "cell_type": "markdown",
   "metadata": {},
   "source": [
    "Below represents the number of matches won by each home team. "
   ]
  },
  {
   "cell_type": "code",
   "execution_count": 81,
   "metadata": {},
   "outputs": [
    {
     "name": "stderr",
     "output_type": "stream",
     "text": [
      "`summarise()` regrouping output by 'FTR', 'HomeTeam', 'AwayTeam', 'FTHG' (override with `.groups` argument)\n",
      "\n",
      "`summarise()` regrouping output by 'FTR' (override with `.groups` argument)\n",
      "\n",
      "`summarise()` regrouping output by 'FTR' (override with `.groups` argument)\n",
      "\n"
     ]
    },
    {
     "data": {
      "text/html": [
       "<table>\n",
       "<caption>A grouped_df: 58 × 3</caption>\n",
       "<thead>\n",
       "\t<tr><th scope=col>FTR</th><th scope=col>HomeTeam</th><th scope=col>TotalWinsHome</th></tr>\n",
       "\t<tr><th scope=col>&lt;fct&gt;</th><th scope=col>&lt;fct&gt;</th><th scope=col>&lt;int&gt;</th></tr>\n",
       "</thead>\n",
       "<tbody>\n",
       "\t<tr><td>H</td><td>Liverpool</td><td>15</td></tr>\n",
       "\t<tr><td>H</td><td>Man City </td><td>15</td></tr>\n",
       "\t<tr><td>H</td><td>Arsenal  </td><td>12</td></tr>\n",
       "\t<tr><td>⋮</td><td>⋮</td><td>⋮</td></tr>\n",
       "\t<tr><td>D</td><td>Newcastle</td><td>1</td></tr>\n",
       "\t<tr><td>D</td><td>Cardiff  </td><td>1</td></tr>\n",
       "\t<tr><td>D</td><td>Everton  </td><td>1</td></tr>\n",
       "</tbody>\n",
       "</table>\n"
      ],
      "text/latex": [
       "A grouped\\_df: 58 × 3\n",
       "\\begin{tabular}{lll}\n",
       " FTR & HomeTeam & TotalWinsHome\\\\\n",
       " <fct> & <fct> & <int>\\\\\n",
       "\\hline\n",
       "\t H & Liverpool & 15\\\\\n",
       "\t H & Man City  & 15\\\\\n",
       "\t H & Arsenal   & 12\\\\\n",
       "\t ⋮ & ⋮ & ⋮\\\\\n",
       "\t D & Newcastle & 1\\\\\n",
       "\t D & Cardiff   & 1\\\\\n",
       "\t D & Everton   & 1\\\\\n",
       "\\end{tabular}\n"
      ],
      "text/markdown": [
       "\n",
       "A grouped_df: 58 × 3\n",
       "\n",
       "| FTR &lt;fct&gt; | HomeTeam &lt;fct&gt; | TotalWinsHome &lt;int&gt; |\n",
       "|---|---|---|\n",
       "| H | Liverpool | 15 |\n",
       "| H | Man City  | 15 |\n",
       "| H | Arsenal   | 12 |\n",
       "| ⋮ | ⋮ | ⋮ |\n",
       "| D | Newcastle | 1 |\n",
       "| D | Cardiff   | 1 |\n",
       "| D | Everton   | 1 |\n",
       "\n"
      ],
      "text/plain": [
       "   FTR HomeTeam  TotalWinsHome\n",
       "1  H   Liverpool 15           \n",
       "2  H   Man City  15           \n",
       "3  H   Arsenal   12           \n",
       "⋮  ⋮   ⋮         ⋮            \n",
       "56 D   Newcastle 1            \n",
       "57 D   Cardiff   1            \n",
       "58 D   Everton   1            "
      ]
     },
     "metadata": {},
     "output_type": "display_data"
    },
    {
     "data": {
      "text/html": [
       "<table>\n",
       "<caption>A grouped_df: 59 × 3</caption>\n",
       "<thead>\n",
       "\t<tr><th scope=col>FTR</th><th scope=col>AwayTeam</th><th scope=col>TotalWinsAway</th></tr>\n",
       "\t<tr><th scope=col>&lt;fct&gt;</th><th scope=col>&lt;fct&gt;</th><th scope=col>&lt;int&gt;</th></tr>\n",
       "</thead>\n",
       "<tbody>\n",
       "\t<tr><td>H</td><td>Fulham      </td><td>12</td></tr>\n",
       "\t<tr><td>H</td><td>Huddersfield</td><td>12</td></tr>\n",
       "\t<tr><td>A</td><td>Man City    </td><td>11</td></tr>\n",
       "\t<tr><td>⋮</td><td>⋮</td><td>⋮</td></tr>\n",
       "\t<tr><td>D</td><td>Chelsea    </td><td>1</td></tr>\n",
       "\t<tr><td>D</td><td>Man City   </td><td>1</td></tr>\n",
       "\t<tr><td>D</td><td>Bournemouth</td><td>1</td></tr>\n",
       "</tbody>\n",
       "</table>\n"
      ],
      "text/latex": [
       "A grouped\\_df: 59 × 3\n",
       "\\begin{tabular}{lll}\n",
       " FTR & AwayTeam & TotalWinsAway\\\\\n",
       " <fct> & <fct> & <int>\\\\\n",
       "\\hline\n",
       "\t H & Fulham       & 12\\\\\n",
       "\t H & Huddersfield & 12\\\\\n",
       "\t A & Man City     & 11\\\\\n",
       "\t ⋮ & ⋮ & ⋮\\\\\n",
       "\t D & Chelsea     & 1\\\\\n",
       "\t D & Man City    & 1\\\\\n",
       "\t D & Bournemouth & 1\\\\\n",
       "\\end{tabular}\n"
      ],
      "text/markdown": [
       "\n",
       "A grouped_df: 59 × 3\n",
       "\n",
       "| FTR &lt;fct&gt; | AwayTeam &lt;fct&gt; | TotalWinsAway &lt;int&gt; |\n",
       "|---|---|---|\n",
       "| H | Fulham       | 12 |\n",
       "| H | Huddersfield | 12 |\n",
       "| A | Man City     | 11 |\n",
       "| ⋮ | ⋮ | ⋮ |\n",
       "| D | Chelsea     | 1 |\n",
       "| D | Man City    | 1 |\n",
       "| D | Bournemouth | 1 |\n",
       "\n"
      ],
      "text/plain": [
       "   FTR AwayTeam     TotalWinsAway\n",
       "1  H   Fulham       12           \n",
       "2  H   Huddersfield 12           \n",
       "3  A   Man City     11           \n",
       "⋮  ⋮   ⋮            ⋮            \n",
       "57 D   Chelsea      1            \n",
       "58 D   Man City     1            \n",
       "59 D   Bournemouth  1            "
      ]
     },
     "metadata": {},
     "output_type": "display_data"
    },
    {
     "data": {
      "text/html": [
       "<table>\n",
       "<caption>A grouped_df: 286 × 6</caption>\n",
       "<thead>\n",
       "\t<tr><th scope=col>FTR</th><th scope=col>HomeTeam</th><th scope=col>AwayTeam</th><th scope=col>FTHG</th><th scope=col>FTAG</th><th scope=col>Net_Score</th></tr>\n",
       "\t<tr><th scope=col>&lt;fct&gt;</th><th scope=col>&lt;fct&gt;</th><th scope=col>&lt;fct&gt;</th><th scope=col>&lt;int&gt;</th><th scope=col>&lt;int&gt;</th><th scope=col>&lt;int&gt;</th></tr>\n",
       "</thead>\n",
       "<tbody>\n",
       "\t<tr><td>H</td><td>Man United</td><td>Brighton</td><td>2</td><td>1</td><td>1</td></tr>\n",
       "\t<tr><td>H</td><td>Man United</td><td>Everton </td><td>2</td><td>1</td><td>1</td></tr>\n",
       "\t<tr><td>H</td><td>Man United</td><td>West Ham</td><td>2</td><td>1</td><td>1</td></tr>\n",
       "\t<tr><td>⋮</td><td>⋮</td><td>⋮</td><td>⋮</td><td>⋮</td><td>⋮</td></tr>\n",
       "\t<tr><td>D</td><td>Crystal Palace</td><td>Everton  </td><td>0</td><td>0</td><td>0</td></tr>\n",
       "\t<tr><td>D</td><td>Crystal Palace</td><td>West Ham </td><td>1</td><td>1</td><td>0</td></tr>\n",
       "\t<tr><td>D</td><td>Crystal Palace</td><td>Newcastle</td><td>0</td><td>0</td><td>0</td></tr>\n",
       "</tbody>\n",
       "</table>\n"
      ],
      "text/latex": [
       "A grouped\\_df: 286 × 6\n",
       "\\begin{tabular}{llllll}\n",
       " FTR & HomeTeam & AwayTeam & FTHG & FTAG & Net\\_Score\\\\\n",
       " <fct> & <fct> & <fct> & <int> & <int> & <int>\\\\\n",
       "\\hline\n",
       "\t H & Man United & Brighton & 2 & 1 & 1\\\\\n",
       "\t H & Man United & Everton  & 2 & 1 & 1\\\\\n",
       "\t H & Man United & West Ham & 2 & 1 & 1\\\\\n",
       "\t ⋮ & ⋮ & ⋮ & ⋮ & ⋮ & ⋮\\\\\n",
       "\t D & Crystal Palace & Everton   & 0 & 0 & 0\\\\\n",
       "\t D & Crystal Palace & West Ham  & 1 & 1 & 0\\\\\n",
       "\t D & Crystal Palace & Newcastle & 0 & 0 & 0\\\\\n",
       "\\end{tabular}\n"
      ],
      "text/markdown": [
       "\n",
       "A grouped_df: 286 × 6\n",
       "\n",
       "| FTR &lt;fct&gt; | HomeTeam &lt;fct&gt; | AwayTeam &lt;fct&gt; | FTHG &lt;int&gt; | FTAG &lt;int&gt; | Net_Score &lt;int&gt; |\n",
       "|---|---|---|---|---|---|\n",
       "| H | Man United | Brighton | 2 | 1 | 1 |\n",
       "| H | Man United | Everton  | 2 | 1 | 1 |\n",
       "| H | Man United | West Ham | 2 | 1 | 1 |\n",
       "| ⋮ | ⋮ | ⋮ | ⋮ | ⋮ | ⋮ |\n",
       "| D | Crystal Palace | Everton   | 0 | 0 | 0 |\n",
       "| D | Crystal Palace | West Ham  | 1 | 1 | 0 |\n",
       "| D | Crystal Palace | Newcastle | 0 | 0 | 0 |\n",
       "\n"
      ],
      "text/plain": [
       "    FTR HomeTeam       AwayTeam  FTHG FTAG Net_Score\n",
       "1   H   Man United     Brighton  2    1    1        \n",
       "2   H   Man United     Everton   2    1    1        \n",
       "3   H   Man United     West Ham  2    1    1        \n",
       "⋮   ⋮   ⋮              ⋮         ⋮    ⋮    ⋮        \n",
       "284 D   Crystal Palace Everton   0    0    0        \n",
       "285 D   Crystal Palace West Ham  1    1    0        \n",
       "286 D   Crystal Palace Newcastle 0    0    0        "
      ]
     },
     "metadata": {},
     "output_type": "display_data"
    }
   ],
   "source": [
    "training_summary_netscore <- match_train %>% \n",
    "                group_by(FTR, HomeTeam, AwayTeam, FTHG, FTAG) %>%\n",
    "                summarize() %>% \n",
    "                mutate(Net_Score = FTHG - FTAG)\n",
    "\n",
    "training_summary_nwin_home <- match_train %>% \n",
    "                group_by(FTR, HomeTeam) %>%\n",
    "                summarize(TotalWinsHome = n()) %>% \n",
    "                arrange(desc(TotalWinsHome))\n",
    "\n",
    "training_summary_nwin_away <- match_train %>% \n",
    "                group_by(FTR, AwayTeam) %>%\n",
    "                summarize(TotalWinsAway = n()) %>% \n",
    "                arrange(desc(TotalWinsAway))\n",
    "\n",
    "\n",
    "training_summary_nwin_home\n",
    "training_summary_nwin_away\n",
    "training_summary_netscore"
   ]
  },
  {
   "cell_type": "code",
   "execution_count": null,
   "metadata": {},
   "outputs": [],
   "source": []
  },
  {
   "cell_type": "code",
   "execution_count": null,
   "metadata": {},
   "outputs": [],
   "source": []
  }
 ],
 "metadata": {
  "kernelspec": {
   "display_name": "R",
   "language": "R",
   "name": "ir"
  },
  "language_info": {
   "codemirror_mode": "r",
   "file_extension": ".r",
   "mimetype": "text/x-r-source",
   "name": "R",
   "pygments_lexer": "r",
   "version": "4.0.0"
  }
 },
 "nbformat": 4,
 "nbformat_minor": 4
}
